{
 "cells": [
  {
   "cell_type": "code",
   "execution_count": 1,
   "metadata": {
    "collapsed": false
   },
   "outputs": [],
   "source": [
    "import pandas as pd\n",
    "import numpy as np\n",
    "import statsmodels.api as sm\n",
    "import statsmodels.formula.api as smf\n",
    "import patsy\n",
    "import seaborn as sns\n",
    "from seaborn import plt\n",
    "from sklearn.linear_model import LinearRegression\n",
    "from sklearn.linear_model import RidgeCV\n",
    "from datetime import datetime\n",
    "from sklearn import preprocessing\n",
    "from sklearn.cross_validation import train_test_split\n",
    "from sklearn.cross_validation import cross_val_score\n",
    "import scipy.stats as stats\n",
    "import calendar\n",
    "\n",
    "%matplotlib inline\n"
   ]
  },
  {
   "cell_type": "code",
   "execution_count": 2,
   "metadata": {
    "collapsed": false
   },
   "outputs": [
    {
     "data": {
      "text/html": [
       "<div>\n",
       "<table border=\"1\" class=\"dataframe\">\n",
       "  <thead>\n",
       "    <tr style=\"text-align: right;\">\n",
       "      <th></th>\n",
       "      <th>Unnamed: 0</th>\n",
       "      <th>movie_name</th>\n",
       "      <th>domestic_gross</th>\n",
       "      <th>foreign_gross</th>\n",
       "      <th>world_gross</th>\n",
       "      <th>production_budget_x</th>\n",
       "      <th>release_date</th>\n",
       "      <th>distributor</th>\n",
       "      <th>runtime</th>\n",
       "      <th>rating</th>\n",
       "      <th>directors</th>\n",
       "      <th>writers</th>\n",
       "      <th>actors</th>\n",
       "    </tr>\n",
       "  </thead>\n",
       "  <tbody>\n",
       "    <tr>\n",
       "      <th>0</th>\n",
       "      <td>0</td>\n",
       "      <td>Everyone's Hero</td>\n",
       "      <td>14523101.0</td>\n",
       "      <td>2104087.0</td>\n",
       "      <td>16627188</td>\n",
       "      <td>NaN</td>\n",
       "      <td>2006-09-15</td>\n",
       "      <td>Fox</td>\n",
       "      <td>88.0</td>\n",
       "      <td>G</td>\n",
       "      <td>[]</td>\n",
       "      <td>[]</td>\n",
       "      <td>[u'Raven-Symone', u'Forest Whitaker']</td>\n",
       "    </tr>\n",
       "    <tr>\n",
       "      <th>1</th>\n",
       "      <td>1</td>\n",
       "      <td>Fire and Ice</td>\n",
       "      <td>760883.0</td>\n",
       "      <td>NaN</td>\n",
       "      <td>857522</td>\n",
       "      <td>NaN</td>\n",
       "      <td>1983-08-26</td>\n",
       "      <td>GKIDS</td>\n",
       "      <td>93.0</td>\n",
       "      <td>PG</td>\n",
       "      <td>[]</td>\n",
       "      <td>[]</td>\n",
       "      <td>[]</td>\n",
       "    </tr>\n",
       "    <tr>\n",
       "      <th>2</th>\n",
       "      <td>2</td>\n",
       "      <td>Light Years</td>\n",
       "      <td>370698.0</td>\n",
       "      <td>12572253.0</td>\n",
       "      <td>12947880</td>\n",
       "      <td>NaN</td>\n",
       "      <td>1988-01-29</td>\n",
       "      <td>Eleven Arts</td>\n",
       "      <td>116.0</td>\n",
       "      <td>Unrated</td>\n",
       "      <td>[]</td>\n",
       "      <td>[]</td>\n",
       "      <td>[]</td>\n",
       "    </tr>\n",
       "    <tr>\n",
       "      <th>3</th>\n",
       "      <td>3</td>\n",
       "      <td>Ratchet &amp; Clank</td>\n",
       "      <td>8821329.0</td>\n",
       "      <td>NaN</td>\n",
       "      <td>8821329</td>\n",
       "      <td>NaN</td>\n",
       "      <td>2016-04-29</td>\n",
       "      <td>Focus Features</td>\n",
       "      <td>94.0</td>\n",
       "      <td>PG</td>\n",
       "      <td>[]</td>\n",
       "      <td>[]</td>\n",
       "      <td>[u'Rosario Dawson', u'Paul Giamatti', u'John G...</td>\n",
       "    </tr>\n",
       "    <tr>\n",
       "      <th>4</th>\n",
       "      <td>4</td>\n",
       "      <td>Home (2015)</td>\n",
       "      <td>177397510.0</td>\n",
       "      <td>208644097.0</td>\n",
       "      <td>386041607</td>\n",
       "      <td>135000000.0</td>\n",
       "      <td>2015-03-27</td>\n",
       "      <td>Fox</td>\n",
       "      <td>94.0</td>\n",
       "      <td>PG</td>\n",
       "      <td>[u'Tim Johnson']</td>\n",
       "      <td>[u'Tom J. Astle', u'Matt Ember']</td>\n",
       "      <td>[u'Rihanna', u'Steve Martin', u'Jennifer Lopez']</td>\n",
       "    </tr>\n",
       "  </tbody>\n",
       "</table>\n",
       "</div>"
      ],
      "text/plain": [
       "   Unnamed: 0       movie_name  domestic_gross  foreign_gross  world_gross  \\\n",
       "0           0  Everyone's Hero      14523101.0      2104087.0     16627188   \n",
       "1           1     Fire and Ice        760883.0            NaN       857522   \n",
       "2           2      Light Years        370698.0     12572253.0     12947880   \n",
       "3           3  Ratchet & Clank       8821329.0            NaN      8821329   \n",
       "4           4      Home (2015)     177397510.0    208644097.0    386041607   \n",
       "\n",
       "   production_budget_x release_date     distributor  runtime   rating  \\\n",
       "0                  NaN   2006-09-15             Fox     88.0        G   \n",
       "1                  NaN   1983-08-26           GKIDS     93.0       PG   \n",
       "2                  NaN   1988-01-29     Eleven Arts    116.0  Unrated   \n",
       "3                  NaN   2016-04-29  Focus Features     94.0       PG   \n",
       "4          135000000.0   2015-03-27             Fox     94.0       PG   \n",
       "\n",
       "          directors                           writers  \\\n",
       "0                []                                []   \n",
       "1                []                                []   \n",
       "2                []                                []   \n",
       "3                []                                []   \n",
       "4  [u'Tim Johnson']  [u'Tom J. Astle', u'Matt Ember']   \n",
       "\n",
       "                                              actors  \n",
       "0              [u'Raven-Symone', u'Forest Whitaker']  \n",
       "1                                                 []  \n",
       "2                                                 []  \n",
       "3  [u'Rosario Dawson', u'Paul Giamatti', u'John G...  \n",
       "4   [u'Rihanna', u'Steve Martin', u'Jennifer Lopez']  "
      ]
     },
     "execution_count": 2,
     "metadata": {},
     "output_type": "execute_result"
    }
   ],
   "source": [
    "df = pd.read_csv('animation_movies.csv')\n",
    "df.head()"
   ]
  },
  {
   "cell_type": "code",
   "execution_count": 3,
   "metadata": {
    "collapsed": false
   },
   "outputs": [
    {
     "data": {
      "text/html": [
       "<div>\n",
       "<table border=\"1\" class=\"dataframe\">\n",
       "  <thead>\n",
       "    <tr style=\"text-align: right;\">\n",
       "      <th></th>\n",
       "      <th>Unnamed: 0</th>\n",
       "      <th>movie_name</th>\n",
       "      <th>domestic_gross</th>\n",
       "      <th>foreign_gross</th>\n",
       "      <th>world_gross</th>\n",
       "      <th>production_budget_x</th>\n",
       "      <th>release_date</th>\n",
       "      <th>distributor</th>\n",
       "      <th>runtime</th>\n",
       "      <th>rating</th>\n",
       "      <th>directors</th>\n",
       "      <th>writers</th>\n",
       "      <th>actors</th>\n",
       "      <th>month</th>\n",
       "      <th>year</th>\n",
       "    </tr>\n",
       "  </thead>\n",
       "  <tbody>\n",
       "    <tr>\n",
       "      <th>0</th>\n",
       "      <td>0</td>\n",
       "      <td>Everyone's Hero</td>\n",
       "      <td>14523101.0</td>\n",
       "      <td>2104087.0</td>\n",
       "      <td>16627188</td>\n",
       "      <td>NaN</td>\n",
       "      <td>2006-09-15</td>\n",
       "      <td>Fox</td>\n",
       "      <td>88.0</td>\n",
       "      <td>G</td>\n",
       "      <td>[]</td>\n",
       "      <td>[]</td>\n",
       "      <td>[u'Raven-Symone', u'Forest Whitaker']</td>\n",
       "      <td>9</td>\n",
       "      <td>2006</td>\n",
       "    </tr>\n",
       "    <tr>\n",
       "      <th>1</th>\n",
       "      <td>1</td>\n",
       "      <td>Fire and Ice</td>\n",
       "      <td>760883.0</td>\n",
       "      <td>NaN</td>\n",
       "      <td>857522</td>\n",
       "      <td>NaN</td>\n",
       "      <td>1983-08-26</td>\n",
       "      <td>GKIDS</td>\n",
       "      <td>93.0</td>\n",
       "      <td>PG</td>\n",
       "      <td>[]</td>\n",
       "      <td>[]</td>\n",
       "      <td>[]</td>\n",
       "      <td>8</td>\n",
       "      <td>1983</td>\n",
       "    </tr>\n",
       "    <tr>\n",
       "      <th>2</th>\n",
       "      <td>2</td>\n",
       "      <td>Light Years</td>\n",
       "      <td>370698.0</td>\n",
       "      <td>12572253.0</td>\n",
       "      <td>12947880</td>\n",
       "      <td>NaN</td>\n",
       "      <td>1988-01-29</td>\n",
       "      <td>Eleven Arts</td>\n",
       "      <td>116.0</td>\n",
       "      <td>Unrated</td>\n",
       "      <td>[]</td>\n",
       "      <td>[]</td>\n",
       "      <td>[]</td>\n",
       "      <td>1</td>\n",
       "      <td>1988</td>\n",
       "    </tr>\n",
       "    <tr>\n",
       "      <th>3</th>\n",
       "      <td>3</td>\n",
       "      <td>Ratchet &amp; Clank</td>\n",
       "      <td>8821329.0</td>\n",
       "      <td>NaN</td>\n",
       "      <td>8821329</td>\n",
       "      <td>NaN</td>\n",
       "      <td>2016-04-29</td>\n",
       "      <td>Focus Features</td>\n",
       "      <td>94.0</td>\n",
       "      <td>PG</td>\n",
       "      <td>[]</td>\n",
       "      <td>[]</td>\n",
       "      <td>[u'Rosario Dawson', u'Paul Giamatti', u'John G...</td>\n",
       "      <td>4</td>\n",
       "      <td>2016</td>\n",
       "    </tr>\n",
       "    <tr>\n",
       "      <th>4</th>\n",
       "      <td>4</td>\n",
       "      <td>Home (2015)</td>\n",
       "      <td>177397510.0</td>\n",
       "      <td>208644097.0</td>\n",
       "      <td>386041607</td>\n",
       "      <td>135000000.0</td>\n",
       "      <td>2015-03-27</td>\n",
       "      <td>Fox</td>\n",
       "      <td>94.0</td>\n",
       "      <td>PG</td>\n",
       "      <td>[u'Tim Johnson']</td>\n",
       "      <td>[u'Tom J. Astle', u'Matt Ember']</td>\n",
       "      <td>[u'Rihanna', u'Steve Martin', u'Jennifer Lopez']</td>\n",
       "      <td>3</td>\n",
       "      <td>2015</td>\n",
       "    </tr>\n",
       "  </tbody>\n",
       "</table>\n",
       "</div>"
      ],
      "text/plain": [
       "   Unnamed: 0       movie_name  domestic_gross  foreign_gross  world_gross  \\\n",
       "0           0  Everyone's Hero      14523101.0      2104087.0     16627188   \n",
       "1           1     Fire and Ice        760883.0            NaN       857522   \n",
       "2           2      Light Years        370698.0     12572253.0     12947880   \n",
       "3           3  Ratchet & Clank       8821329.0            NaN      8821329   \n",
       "4           4      Home (2015)     177397510.0    208644097.0    386041607   \n",
       "\n",
       "   production_budget_x release_date     distributor  runtime   rating  \\\n",
       "0                  NaN   2006-09-15             Fox     88.0        G   \n",
       "1                  NaN   1983-08-26           GKIDS     93.0       PG   \n",
       "2                  NaN   1988-01-29     Eleven Arts    116.0  Unrated   \n",
       "3                  NaN   2016-04-29  Focus Features     94.0       PG   \n",
       "4          135000000.0   2015-03-27             Fox     94.0       PG   \n",
       "\n",
       "          directors                           writers  \\\n",
       "0                []                                []   \n",
       "1                []                                []   \n",
       "2                []                                []   \n",
       "3                []                                []   \n",
       "4  [u'Tim Johnson']  [u'Tom J. Astle', u'Matt Ember']   \n",
       "\n",
       "                                              actors  month  year  \n",
       "0              [u'Raven-Symone', u'Forest Whitaker']      9  2006  \n",
       "1                                                 []      8  1983  \n",
       "2                                                 []      1  1988  \n",
       "3  [u'Rosario Dawson', u'Paul Giamatti', u'John G...      4  2016  \n",
       "4   [u'Rihanna', u'Steve Martin', u'Jennifer Lopez']      3  2015  "
      ]
     },
     "execution_count": 3,
     "metadata": {},
     "output_type": "execute_result"
    }
   ],
   "source": [
    "df['release_date'] = pd.to_datetime(df['release_date'])\n",
    "df['month'] = df['release_date'].dt.month\n",
    "df['year'] = df['release_date'].dt.year\n",
    "df.head()"
   ]
  },
  {
   "cell_type": "code",
   "execution_count": 4,
   "metadata": {
    "collapsed": false
   },
   "outputs": [
    {
     "data": {
      "text/plain": [
       "Index([u'Avg'], dtype='object')"
      ]
     },
     "execution_count": 4,
     "metadata": {},
     "output_type": "execute_result"
    }
   ],
   "source": [
    "df_cpi = pd.read_csv('cpi_values.csv')\n",
    "df_cpi.index = df_cpi.Year\n",
    "df_cpi.drop('Year', axis=1, inplace=True)\n",
    "#yearly_cpi.columns = ['cpi']\n",
    "df_cpi.columns"
   ]
  },
  {
   "cell_type": "code",
   "execution_count": 5,
   "metadata": {
    "collapsed": true
   },
   "outputs": [],
   "source": [
    "cpi_2016 = int(df_cpi.loc[2016])"
   ]
  },
  {
   "cell_type": "code",
   "execution_count": 6,
   "metadata": {
    "collapsed": false
   },
   "outputs": [
    {
     "data": {
      "text/html": [
       "<div>\n",
       "<table border=\"1\" class=\"dataframe\">\n",
       "  <thead>\n",
       "    <tr style=\"text-align: right;\">\n",
       "      <th></th>\n",
       "      <th>Unnamed: 0</th>\n",
       "      <th>movie_name</th>\n",
       "      <th>domestic_gross</th>\n",
       "      <th>foreign_gross</th>\n",
       "      <th>world_gross</th>\n",
       "      <th>production_budget_x</th>\n",
       "      <th>release_date</th>\n",
       "      <th>distributor</th>\n",
       "      <th>runtime</th>\n",
       "      <th>rating</th>\n",
       "      <th>directors</th>\n",
       "      <th>writers</th>\n",
       "      <th>actors</th>\n",
       "      <th>month</th>\n",
       "      <th>year</th>\n",
       "      <th>Avg</th>\n",
       "    </tr>\n",
       "  </thead>\n",
       "  <tbody>\n",
       "    <tr>\n",
       "      <th>0</th>\n",
       "      <td>0</td>\n",
       "      <td>Everyone's Hero</td>\n",
       "      <td>14523101.0</td>\n",
       "      <td>2104087.0</td>\n",
       "      <td>16627188</td>\n",
       "      <td>NaN</td>\n",
       "      <td>2006-09-15</td>\n",
       "      <td>Fox</td>\n",
       "      <td>88.0</td>\n",
       "      <td>G</td>\n",
       "      <td>[]</td>\n",
       "      <td>[]</td>\n",
       "      <td>[u'Raven-Symone', u'Forest Whitaker']</td>\n",
       "      <td>9</td>\n",
       "      <td>2006</td>\n",
       "      <td>201.600</td>\n",
       "    </tr>\n",
       "    <tr>\n",
       "      <th>1</th>\n",
       "      <td>1</td>\n",
       "      <td>Fire and Ice</td>\n",
       "      <td>760883.0</td>\n",
       "      <td>NaN</td>\n",
       "      <td>857522</td>\n",
       "      <td>NaN</td>\n",
       "      <td>1983-08-26</td>\n",
       "      <td>GKIDS</td>\n",
       "      <td>93.0</td>\n",
       "      <td>PG</td>\n",
       "      <td>[]</td>\n",
       "      <td>[]</td>\n",
       "      <td>[]</td>\n",
       "      <td>8</td>\n",
       "      <td>1983</td>\n",
       "      <td>99.600</td>\n",
       "    </tr>\n",
       "    <tr>\n",
       "      <th>2</th>\n",
       "      <td>2</td>\n",
       "      <td>Light Years</td>\n",
       "      <td>370698.0</td>\n",
       "      <td>12572253.0</td>\n",
       "      <td>12947880</td>\n",
       "      <td>NaN</td>\n",
       "      <td>1988-01-29</td>\n",
       "      <td>Eleven Arts</td>\n",
       "      <td>116.0</td>\n",
       "      <td>Unrated</td>\n",
       "      <td>[]</td>\n",
       "      <td>[]</td>\n",
       "      <td>[]</td>\n",
       "      <td>1</td>\n",
       "      <td>1988</td>\n",
       "      <td>118.300</td>\n",
       "    </tr>\n",
       "    <tr>\n",
       "      <th>3</th>\n",
       "      <td>3</td>\n",
       "      <td>Ratchet &amp; Clank</td>\n",
       "      <td>8821329.0</td>\n",
       "      <td>NaN</td>\n",
       "      <td>8821329</td>\n",
       "      <td>NaN</td>\n",
       "      <td>2016-04-29</td>\n",
       "      <td>Focus Features</td>\n",
       "      <td>94.0</td>\n",
       "      <td>PG</td>\n",
       "      <td>[]</td>\n",
       "      <td>[]</td>\n",
       "      <td>[u'Rosario Dawson', u'Paul Giamatti', u'John G...</td>\n",
       "      <td>4</td>\n",
       "      <td>2016</td>\n",
       "      <td>240.007</td>\n",
       "    </tr>\n",
       "    <tr>\n",
       "      <th>4</th>\n",
       "      <td>4</td>\n",
       "      <td>Home (2015)</td>\n",
       "      <td>177397510.0</td>\n",
       "      <td>208644097.0</td>\n",
       "      <td>386041607</td>\n",
       "      <td>135000000.0</td>\n",
       "      <td>2015-03-27</td>\n",
       "      <td>Fox</td>\n",
       "      <td>94.0</td>\n",
       "      <td>PG</td>\n",
       "      <td>[u'Tim Johnson']</td>\n",
       "      <td>[u'Tom J. Astle', u'Matt Ember']</td>\n",
       "      <td>[u'Rihanna', u'Steve Martin', u'Jennifer Lopez']</td>\n",
       "      <td>3</td>\n",
       "      <td>2015</td>\n",
       "      <td>237.017</td>\n",
       "    </tr>\n",
       "  </tbody>\n",
       "</table>\n",
       "</div>"
      ],
      "text/plain": [
       "   Unnamed: 0       movie_name  domestic_gross  foreign_gross  world_gross  \\\n",
       "0           0  Everyone's Hero      14523101.0      2104087.0     16627188   \n",
       "1           1     Fire and Ice        760883.0            NaN       857522   \n",
       "2           2      Light Years        370698.0     12572253.0     12947880   \n",
       "3           3  Ratchet & Clank       8821329.0            NaN      8821329   \n",
       "4           4      Home (2015)     177397510.0    208644097.0    386041607   \n",
       "\n",
       "   production_budget_x release_date     distributor  runtime   rating  \\\n",
       "0                  NaN   2006-09-15             Fox     88.0        G   \n",
       "1                  NaN   1983-08-26           GKIDS     93.0       PG   \n",
       "2                  NaN   1988-01-29     Eleven Arts    116.0  Unrated   \n",
       "3                  NaN   2016-04-29  Focus Features     94.0       PG   \n",
       "4          135000000.0   2015-03-27             Fox     94.0       PG   \n",
       "\n",
       "          directors                           writers  \\\n",
       "0                []                                []   \n",
       "1                []                                []   \n",
       "2                []                                []   \n",
       "3                []                                []   \n",
       "4  [u'Tim Johnson']  [u'Tom J. Astle', u'Matt Ember']   \n",
       "\n",
       "                                              actors  month  year      Avg  \n",
       "0              [u'Raven-Symone', u'Forest Whitaker']      9  2006  201.600  \n",
       "1                                                 []      8  1983   99.600  \n",
       "2                                                 []      1  1988  118.300  \n",
       "3  [u'Rosario Dawson', u'Paul Giamatti', u'John G...      4  2016  240.007  \n",
       "4   [u'Rihanna', u'Steve Martin', u'Jennifer Lopez']      3  2015  237.017  "
      ]
     },
     "execution_count": 6,
     "metadata": {},
     "output_type": "execute_result"
    }
   ],
   "source": [
    "adjusted_df = df.merge(df_cpi, how='left', left_on='year', right_index=True)\n",
    "adjusted_df.head()"
   ]
  },
  {
   "cell_type": "code",
   "execution_count": 7,
   "metadata": {
    "collapsed": true
   },
   "outputs": [],
   "source": [
    "df['domestic_gross'] = adjusted_df['domestic_gross']*cpi_2016/adjusted_df.Avg"
   ]
  },
  {
   "cell_type": "code",
   "execution_count": 8,
   "metadata": {
    "collapsed": false
   },
   "outputs": [],
   "source": [
    "df['foreign_gross'] = adjusted_df['foreign_gross']*cpi_2016/adjusted_df.Avg\n",
    "df['production_budget_x'] = adjusted_df['production_budget_x']*cpi_2016/adjusted_df.Avg"
   ]
  },
  {
   "cell_type": "code",
   "execution_count": 9,
   "metadata": {
    "collapsed": false
   },
   "outputs": [
    {
     "data": {
      "text/html": [
       "<div>\n",
       "<table border=\"1\" class=\"dataframe\">\n",
       "  <thead>\n",
       "    <tr style=\"text-align: right;\">\n",
       "      <th></th>\n",
       "      <th>Unnamed: 0</th>\n",
       "      <th>movie_name</th>\n",
       "      <th>domestic_gross</th>\n",
       "      <th>foreign_gross</th>\n",
       "      <th>world_gross</th>\n",
       "      <th>production_budget_x</th>\n",
       "      <th>release_date</th>\n",
       "      <th>distributor</th>\n",
       "      <th>runtime</th>\n",
       "      <th>rating</th>\n",
       "      <th>directors</th>\n",
       "      <th>writers</th>\n",
       "      <th>actors</th>\n",
       "      <th>month</th>\n",
       "      <th>year</th>\n",
       "    </tr>\n",
       "  </thead>\n",
       "  <tbody>\n",
       "    <tr>\n",
       "      <th>0</th>\n",
       "      <td>0</td>\n",
       "      <td>Everyone's Hero</td>\n",
       "      <td>1.728941e+07</td>\n",
       "      <td>2.504865e+06</td>\n",
       "      <td>16627188</td>\n",
       "      <td>NaN</td>\n",
       "      <td>2006-09-15</td>\n",
       "      <td>Fox</td>\n",
       "      <td>88.0</td>\n",
       "      <td>G</td>\n",
       "      <td>[]</td>\n",
       "      <td>[]</td>\n",
       "      <td>[u'Raven-Symone', u'Forest Whitaker']</td>\n",
       "      <td>9</td>\n",
       "      <td>2006</td>\n",
       "    </tr>\n",
       "    <tr>\n",
       "      <th>1</th>\n",
       "      <td>1</td>\n",
       "      <td>Fire and Ice</td>\n",
       "      <td>1.833453e+06</td>\n",
       "      <td>NaN</td>\n",
       "      <td>857522</td>\n",
       "      <td>NaN</td>\n",
       "      <td>1983-08-26</td>\n",
       "      <td>GKIDS</td>\n",
       "      <td>93.0</td>\n",
       "      <td>PG</td>\n",
       "      <td>[]</td>\n",
       "      <td>[]</td>\n",
       "      <td>[]</td>\n",
       "      <td>8</td>\n",
       "      <td>1983</td>\n",
       "    </tr>\n",
       "    <tr>\n",
       "      <th>2</th>\n",
       "      <td>2</td>\n",
       "      <td>Light Years</td>\n",
       "      <td>7.520500e+05</td>\n",
       "      <td>2.550584e+07</td>\n",
       "      <td>12947880</td>\n",
       "      <td>NaN</td>\n",
       "      <td>1988-01-29</td>\n",
       "      <td>Eleven Arts</td>\n",
       "      <td>116.0</td>\n",
       "      <td>Unrated</td>\n",
       "      <td>[]</td>\n",
       "      <td>[]</td>\n",
       "      <td>[]</td>\n",
       "      <td>1</td>\n",
       "      <td>1988</td>\n",
       "    </tr>\n",
       "    <tr>\n",
       "      <th>3</th>\n",
       "      <td>3</td>\n",
       "      <td>Ratchet &amp; Clank</td>\n",
       "      <td>8.821072e+06</td>\n",
       "      <td>NaN</td>\n",
       "      <td>8821329</td>\n",
       "      <td>NaN</td>\n",
       "      <td>2016-04-29</td>\n",
       "      <td>Focus Features</td>\n",
       "      <td>94.0</td>\n",
       "      <td>PG</td>\n",
       "      <td>[]</td>\n",
       "      <td>[]</td>\n",
       "      <td>[u'Rosario Dawson', u'Paul Giamatti', u'John G...</td>\n",
       "      <td>4</td>\n",
       "      <td>2016</td>\n",
       "    </tr>\n",
       "    <tr>\n",
       "      <th>4</th>\n",
       "      <td>4</td>\n",
       "      <td>Home (2015)</td>\n",
       "      <td>1.796302e+08</td>\n",
       "      <td>2.112700e+08</td>\n",
       "      <td>386041607</td>\n",
       "      <td>1.366991e+08</td>\n",
       "      <td>2015-03-27</td>\n",
       "      <td>Fox</td>\n",
       "      <td>94.0</td>\n",
       "      <td>PG</td>\n",
       "      <td>[u'Tim Johnson']</td>\n",
       "      <td>[u'Tom J. Astle', u'Matt Ember']</td>\n",
       "      <td>[u'Rihanna', u'Steve Martin', u'Jennifer Lopez']</td>\n",
       "      <td>3</td>\n",
       "      <td>2015</td>\n",
       "    </tr>\n",
       "  </tbody>\n",
       "</table>\n",
       "</div>"
      ],
      "text/plain": [
       "   Unnamed: 0       movie_name  domestic_gross  foreign_gross  world_gross  \\\n",
       "0           0  Everyone's Hero    1.728941e+07   2.504865e+06     16627188   \n",
       "1           1     Fire and Ice    1.833453e+06            NaN       857522   \n",
       "2           2      Light Years    7.520500e+05   2.550584e+07     12947880   \n",
       "3           3  Ratchet & Clank    8.821072e+06            NaN      8821329   \n",
       "4           4      Home (2015)    1.796302e+08   2.112700e+08    386041607   \n",
       "\n",
       "   production_budget_x release_date     distributor  runtime   rating  \\\n",
       "0                  NaN   2006-09-15             Fox     88.0        G   \n",
       "1                  NaN   1983-08-26           GKIDS     93.0       PG   \n",
       "2                  NaN   1988-01-29     Eleven Arts    116.0  Unrated   \n",
       "3                  NaN   2016-04-29  Focus Features     94.0       PG   \n",
       "4         1.366991e+08   2015-03-27             Fox     94.0       PG   \n",
       "\n",
       "          directors                           writers  \\\n",
       "0                []                                []   \n",
       "1                []                                []   \n",
       "2                []                                []   \n",
       "3                []                                []   \n",
       "4  [u'Tim Johnson']  [u'Tom J. Astle', u'Matt Ember']   \n",
       "\n",
       "                                              actors  month  year  \n",
       "0              [u'Raven-Symone', u'Forest Whitaker']      9  2006  \n",
       "1                                                 []      8  1983  \n",
       "2                                                 []      1  1988  \n",
       "3  [u'Rosario Dawson', u'Paul Giamatti', u'John G...      4  2016  \n",
       "4   [u'Rihanna', u'Steve Martin', u'Jennifer Lopez']      3  2015  "
      ]
     },
     "execution_count": 9,
     "metadata": {},
     "output_type": "execute_result"
    }
   ],
   "source": [
    "df.head()"
   ]
  },
  {
   "cell_type": "code",
   "execution_count": 10,
   "metadata": {
    "collapsed": false
   },
   "outputs": [],
   "source": [
    "df = df.fillna(\"\")"
   ]
  },
  {
   "cell_type": "code",
   "execution_count": 11,
   "metadata": {
    "collapsed": false
   },
   "outputs": [],
   "source": [
    "df = df.drop(['Unnamed: 0','release_date'],axis = 1)"
   ]
  },
  {
   "cell_type": "code",
   "execution_count": 12,
   "metadata": {
    "collapsed": false
   },
   "outputs": [],
   "source": [
    "df.columns = ['movie_name','domestic_gross','foreign_gross','world_gross','production_budget','distributor','runtime','rating','directors','writers','actors','month','year']"
   ]
  },
  {
   "cell_type": "code",
   "execution_count": 13,
   "metadata": {
    "collapsed": false
   },
   "outputs": [
    {
     "data": {
      "text/html": [
       "<div>\n",
       "<table border=\"1\" class=\"dataframe\">\n",
       "  <thead>\n",
       "    <tr style=\"text-align: right;\">\n",
       "      <th></th>\n",
       "      <th>movie_name</th>\n",
       "      <th>domestic_gross</th>\n",
       "      <th>foreign_gross</th>\n",
       "      <th>world_gross</th>\n",
       "      <th>production_budget</th>\n",
       "      <th>distributor</th>\n",
       "      <th>runtime</th>\n",
       "      <th>rating</th>\n",
       "      <th>directors</th>\n",
       "      <th>writers</th>\n",
       "      <th>actors</th>\n",
       "      <th>month</th>\n",
       "      <th>year</th>\n",
       "    </tr>\n",
       "  </thead>\n",
       "  <tbody>\n",
       "    <tr>\n",
       "      <th>0</th>\n",
       "      <td>Everyone's Hero</td>\n",
       "      <td>1.72894e+07</td>\n",
       "      <td>2.50487e+06</td>\n",
       "      <td>16627188</td>\n",
       "      <td></td>\n",
       "      <td>Fox</td>\n",
       "      <td>88</td>\n",
       "      <td>G</td>\n",
       "      <td>[]</td>\n",
       "      <td>[]</td>\n",
       "      <td>[u'Raven-Symone', u'Forest Whitaker']</td>\n",
       "      <td>9</td>\n",
       "      <td>2006</td>\n",
       "    </tr>\n",
       "    <tr>\n",
       "      <th>1</th>\n",
       "      <td>Fire and Ice</td>\n",
       "      <td>1.83345e+06</td>\n",
       "      <td></td>\n",
       "      <td>857522</td>\n",
       "      <td></td>\n",
       "      <td>GKIDS</td>\n",
       "      <td>93</td>\n",
       "      <td>PG</td>\n",
       "      <td>[]</td>\n",
       "      <td>[]</td>\n",
       "      <td>[]</td>\n",
       "      <td>8</td>\n",
       "      <td>1983</td>\n",
       "    </tr>\n",
       "    <tr>\n",
       "      <th>2</th>\n",
       "      <td>Light Years</td>\n",
       "      <td>752050</td>\n",
       "      <td>2.55058e+07</td>\n",
       "      <td>12947880</td>\n",
       "      <td></td>\n",
       "      <td>Eleven Arts</td>\n",
       "      <td>116</td>\n",
       "      <td>Unrated</td>\n",
       "      <td>[]</td>\n",
       "      <td>[]</td>\n",
       "      <td>[]</td>\n",
       "      <td>1</td>\n",
       "      <td>1988</td>\n",
       "    </tr>\n",
       "    <tr>\n",
       "      <th>3</th>\n",
       "      <td>Ratchet &amp; Clank</td>\n",
       "      <td>8.82107e+06</td>\n",
       "      <td></td>\n",
       "      <td>8821329</td>\n",
       "      <td></td>\n",
       "      <td>Focus Features</td>\n",
       "      <td>94</td>\n",
       "      <td>PG</td>\n",
       "      <td>[]</td>\n",
       "      <td>[]</td>\n",
       "      <td>[u'Rosario Dawson', u'Paul Giamatti', u'John G...</td>\n",
       "      <td>4</td>\n",
       "      <td>2016</td>\n",
       "    </tr>\n",
       "    <tr>\n",
       "      <th>4</th>\n",
       "      <td>Home (2015)</td>\n",
       "      <td>1.7963e+08</td>\n",
       "      <td>2.1127e+08</td>\n",
       "      <td>386041607</td>\n",
       "      <td>1.36699e+08</td>\n",
       "      <td>Fox</td>\n",
       "      <td>94</td>\n",
       "      <td>PG</td>\n",
       "      <td>[u'Tim Johnson']</td>\n",
       "      <td>[u'Tom J. Astle', u'Matt Ember']</td>\n",
       "      <td>[u'Rihanna', u'Steve Martin', u'Jennifer Lopez']</td>\n",
       "      <td>3</td>\n",
       "      <td>2015</td>\n",
       "    </tr>\n",
       "  </tbody>\n",
       "</table>\n",
       "</div>"
      ],
      "text/plain": [
       "        movie_name domestic_gross foreign_gross  world_gross  \\\n",
       "0  Everyone's Hero    1.72894e+07   2.50487e+06     16627188   \n",
       "1     Fire and Ice    1.83345e+06                     857522   \n",
       "2      Light Years         752050   2.55058e+07     12947880   \n",
       "3  Ratchet & Clank    8.82107e+06                    8821329   \n",
       "4      Home (2015)     1.7963e+08    2.1127e+08    386041607   \n",
       "\n",
       "  production_budget     distributor runtime   rating         directors  \\\n",
       "0                               Fox      88        G                []   \n",
       "1                             GKIDS      93       PG                []   \n",
       "2                       Eleven Arts     116  Unrated                []   \n",
       "3                    Focus Features      94       PG                []   \n",
       "4       1.36699e+08             Fox      94       PG  [u'Tim Johnson']   \n",
       "\n",
       "                            writers  \\\n",
       "0                                []   \n",
       "1                                []   \n",
       "2                                []   \n",
       "3                                []   \n",
       "4  [u'Tom J. Astle', u'Matt Ember']   \n",
       "\n",
       "                                              actors  month  year  \n",
       "0              [u'Raven-Symone', u'Forest Whitaker']      9  2006  \n",
       "1                                                 []      8  1983  \n",
       "2                                                 []      1  1988  \n",
       "3  [u'Rosario Dawson', u'Paul Giamatti', u'John G...      4  2016  \n",
       "4   [u'Rihanna', u'Steve Martin', u'Jennifer Lopez']      3  2015  "
      ]
     },
     "execution_count": 13,
     "metadata": {},
     "output_type": "execute_result"
    }
   ],
   "source": [
    "df.head()"
   ]
  },
  {
   "cell_type": "code",
   "execution_count": 14,
   "metadata": {
    "collapsed": false
   },
   "outputs": [
    {
     "data": {
      "text/plain": [
       "Index([u'movie_name', u'domestic_gross', u'foreign_gross', u'world_gross',\n",
       "       u'production_budget', u'distributor', u'runtime', u'rating',\n",
       "       u'directors', u'writers', u'actors', u'month', u'year'],\n",
       "      dtype='object')"
      ]
     },
     "execution_count": 14,
     "metadata": {},
     "output_type": "execute_result"
    }
   ],
   "source": [
    "df.columns = df.columns.map(str.strip)\n",
    "df.columns"
   ]
  },
  {
   "cell_type": "code",
   "execution_count": 15,
   "metadata": {
    "collapsed": false
   },
   "outputs": [
    {
     "name": "stdout",
     "output_type": "stream",
     "text": [
      "<class 'pandas.core.frame.DataFrame'>\n",
      "RangeIndex: 423 entries, 0 to 422\n",
      "Data columns (total 13 columns):\n",
      "movie_name           423 non-null object\n",
      "domestic_gross       423 non-null object\n",
      "foreign_gross        423 non-null object\n",
      "world_gross          423 non-null int64\n",
      "production_budget    423 non-null object\n",
      "distributor          423 non-null object\n",
      "runtime              423 non-null object\n",
      "rating               423 non-null object\n",
      "directors            423 non-null object\n",
      "writers              423 non-null object\n",
      "actors               423 non-null object\n",
      "month                423 non-null int64\n",
      "year                 423 non-null int64\n",
      "dtypes: int64(3), object(10)\n",
      "memory usage: 43.0+ KB\n"
     ]
    }
   ],
   "source": [
    "df.info()"
   ]
  },
  {
   "cell_type": "code",
   "execution_count": 16,
   "metadata": {
    "collapsed": false
   },
   "outputs": [],
   "source": [
    "df['domestic_gross'] = pd.to_numeric(df['domestic_gross'])\n",
    "df['foreign_gross'] = pd.to_numeric(df['foreign_gross'])\n",
    "df['production_budget'] = pd.to_numeric(df['production_budget'])\n",
    "df['runtime'] = pd.to_numeric(df['runtime'])"
   ]
  },
  {
   "cell_type": "code",
   "execution_count": 17,
   "metadata": {
    "collapsed": false
   },
   "outputs": [],
   "source": [
    "df= df.dropna(axis = 0, how = 'any')"
   ]
  },
  {
   "cell_type": "code",
   "execution_count": 18,
   "metadata": {
    "collapsed": false
   },
   "outputs": [
    {
     "data": {
      "text/html": [
       "<div>\n",
       "<table border=\"1\" class=\"dataframe\">\n",
       "  <thead>\n",
       "    <tr style=\"text-align: right;\">\n",
       "      <th></th>\n",
       "      <th>movie_name</th>\n",
       "      <th>domestic_gross</th>\n",
       "      <th>foreign_gross</th>\n",
       "      <th>world_gross</th>\n",
       "      <th>production_budget</th>\n",
       "      <th>distributor</th>\n",
       "      <th>runtime</th>\n",
       "      <th>rating</th>\n",
       "      <th>directors</th>\n",
       "      <th>writers</th>\n",
       "      <th>actors</th>\n",
       "      <th>month</th>\n",
       "      <th>year</th>\n",
       "    </tr>\n",
       "  </thead>\n",
       "  <tbody>\n",
       "    <tr>\n",
       "      <th>4</th>\n",
       "      <td>Home (2015)</td>\n",
       "      <td>1.796302e+08</td>\n",
       "      <td>2.112700e+08</td>\n",
       "      <td>386041607</td>\n",
       "      <td>1.366991e+08</td>\n",
       "      <td>Fox</td>\n",
       "      <td>94.0</td>\n",
       "      <td>PG</td>\n",
       "      <td>[u'Tim Johnson']</td>\n",
       "      <td>[u'Tom J. Astle', u'Matt Ember']</td>\n",
       "      <td>[u'Rihanna', u'Steve Martin', u'Jennifer Lopez']</td>\n",
       "      <td>3</td>\n",
       "      <td>2015</td>\n",
       "    </tr>\n",
       "    <tr>\n",
       "      <th>5</th>\n",
       "      <td>Space Chimps</td>\n",
       "      <td>3.355937e+07</td>\n",
       "      <td>3.871269e+07</td>\n",
       "      <td>64834964</td>\n",
       "      <td>4.124420e+07</td>\n",
       "      <td>Fox</td>\n",
       "      <td>81.0</td>\n",
       "      <td>G</td>\n",
       "      <td>[u'Kirk De Micco']</td>\n",
       "      <td>[u'Kirk De Micco']</td>\n",
       "      <td>[u'Andy Samberg']</td>\n",
       "      <td>7</td>\n",
       "      <td>2008</td>\n",
       "    </tr>\n",
       "    <tr>\n",
       "      <th>6</th>\n",
       "      <td>Fantasia 2000 (IMAX)</td>\n",
       "      <td>8.453717e+07</td>\n",
       "      <td>1.204181e+08</td>\n",
       "      <td>150406466</td>\n",
       "      <td>1.114983e+08</td>\n",
       "      <td>Warner Bros.</td>\n",
       "      <td>105.0</td>\n",
       "      <td>PG</td>\n",
       "      <td>[]</td>\n",
       "      <td>[]</td>\n",
       "      <td>[]</td>\n",
       "      <td>1</td>\n",
       "      <td>2000</td>\n",
       "    </tr>\n",
       "    <tr>\n",
       "      <th>7</th>\n",
       "      <td>Lilo &amp; Stitch</td>\n",
       "      <td>1.945005e+08</td>\n",
       "      <td>1.698941e+08</td>\n",
       "      <td>273144151</td>\n",
       "      <td>1.067260e+08</td>\n",
       "      <td>Buena Vista</td>\n",
       "      <td>85.0</td>\n",
       "      <td>PG</td>\n",
       "      <td>[u'Dean DeBlois', u'Chris Sanders']</td>\n",
       "      <td>[u'Dean DeBlois', u'Chris Sanders']</td>\n",
       "      <td>[]</td>\n",
       "      <td>6</td>\n",
       "      <td>2002</td>\n",
       "    </tr>\n",
       "    <tr>\n",
       "      <th>10</th>\n",
       "      <td>Bolt</td>\n",
       "      <td>1.271364e+08</td>\n",
       "      <td>2.184008e+08</td>\n",
       "      <td>309979994</td>\n",
       "      <td>1.672062e+08</td>\n",
       "      <td>Buena Vista</td>\n",
       "      <td>96.0</td>\n",
       "      <td>PG</td>\n",
       "      <td>[u'Chris Williams']</td>\n",
       "      <td>[u'Dan Fogelman', u'Chris Williams']</td>\n",
       "      <td>[u'John Travolta', u'Miley Cyrus', u'Nick Swar...</td>\n",
       "      <td>11</td>\n",
       "      <td>2008</td>\n",
       "    </tr>\n",
       "  </tbody>\n",
       "</table>\n",
       "</div>"
      ],
      "text/plain": [
       "              movie_name  domestic_gross  foreign_gross  world_gross  \\\n",
       "4            Home (2015)    1.796302e+08   2.112700e+08    386041607   \n",
       "5           Space Chimps    3.355937e+07   3.871269e+07     64834964   \n",
       "6   Fantasia 2000 (IMAX)    8.453717e+07   1.204181e+08    150406466   \n",
       "7          Lilo & Stitch    1.945005e+08   1.698941e+08    273144151   \n",
       "10                  Bolt    1.271364e+08   2.184008e+08    309979994   \n",
       "\n",
       "    production_budget   distributor  runtime rating  \\\n",
       "4        1.366991e+08           Fox     94.0     PG   \n",
       "5        4.124420e+07           Fox     81.0      G   \n",
       "6        1.114983e+08  Warner Bros.    105.0     PG   \n",
       "7        1.067260e+08   Buena Vista     85.0     PG   \n",
       "10       1.672062e+08   Buena Vista     96.0     PG   \n",
       "\n",
       "                              directors                               writers  \\\n",
       "4                      [u'Tim Johnson']      [u'Tom J. Astle', u'Matt Ember']   \n",
       "5                    [u'Kirk De Micco']                    [u'Kirk De Micco']   \n",
       "6                                    []                                    []   \n",
       "7   [u'Dean DeBlois', u'Chris Sanders']   [u'Dean DeBlois', u'Chris Sanders']   \n",
       "10                  [u'Chris Williams']  [u'Dan Fogelman', u'Chris Williams']   \n",
       "\n",
       "                                               actors  month  year  \n",
       "4    [u'Rihanna', u'Steve Martin', u'Jennifer Lopez']      3  2015  \n",
       "5                                   [u'Andy Samberg']      7  2008  \n",
       "6                                                  []      1  2000  \n",
       "7                                                  []      6  2002  \n",
       "10  [u'John Travolta', u'Miley Cyrus', u'Nick Swar...     11  2008  "
      ]
     },
     "execution_count": 18,
     "metadata": {},
     "output_type": "execute_result"
    }
   ],
   "source": [
    "df.head()"
   ]
  },
  {
   "cell_type": "code",
   "execution_count": 115,
   "metadata": {
    "collapsed": false
   },
   "outputs": [
    {
     "data": {
      "text/html": [
       "<div>\n",
       "<table border=\"1\" class=\"dataframe\">\n",
       "  <thead>\n",
       "    <tr style=\"text-align: right;\">\n",
       "      <th></th>\n",
       "      <th>movie_name</th>\n",
       "      <th>domestic_gross</th>\n",
       "      <th>foreign_gross</th>\n",
       "      <th>world_gross</th>\n",
       "      <th>production_budget</th>\n",
       "      <th>distributor</th>\n",
       "      <th>runtime</th>\n",
       "      <th>rating</th>\n",
       "      <th>directors</th>\n",
       "      <th>writers</th>\n",
       "      <th>actors</th>\n",
       "      <th>month</th>\n",
       "      <th>year</th>\n",
       "    </tr>\n",
       "  </thead>\n",
       "  <tbody>\n",
       "  </tbody>\n",
       "</table>\n",
       "</div>"
      ],
      "text/plain": [
       "Empty DataFrame\n",
       "Columns: [movie_name, domestic_gross, foreign_gross, world_gross, production_budget, distributor, runtime, rating, directors, writers, actors, month, year]\n",
       "Index: []"
      ]
     },
     "execution_count": 115,
     "metadata": {},
     "output_type": "execute_result"
    }
   ],
   "source": [
    "df.filter(like='R', axis=0)"
   ]
  },
  {
   "cell_type": "code",
   "execution_count": 24,
   "metadata": {
    "collapsed": false
   },
   "outputs": [
    {
     "name": "stdout",
     "output_type": "stream",
     "text": [
      "<class 'pandas.core.frame.DataFrame'>\n",
      "Int64Index: 216 entries, 4 to 420\n",
      "Data columns (total 13 columns):\n",
      "movie_name           216 non-null object\n",
      "domestic_gross       216 non-null float64\n",
      "foreign_gross        216 non-null float64\n",
      "world_gross          216 non-null int64\n",
      "production_budget    216 non-null float64\n",
      "distributor          216 non-null object\n",
      "runtime              216 non-null float64\n",
      "rating               216 non-null object\n",
      "directors            216 non-null object\n",
      "writers              216 non-null object\n",
      "actors               216 non-null object\n",
      "month                216 non-null int64\n",
      "year                 216 non-null int64\n",
      "dtypes: float64(4), int64(3), object(6)\n",
      "memory usage: 23.6+ KB\n"
     ]
    }
   ],
   "source": [
    "df.info()"
   ]
  },
  {
   "cell_type": "code",
   "execution_count": 27,
   "metadata": {
    "collapsed": true
   },
   "outputs": [],
   "source": [
    "df_year = df.loc[:,['domestic_gross','year']]"
   ]
  },
  {
   "cell_type": "code",
   "execution_count": 31,
   "metadata": {
    "collapsed": false
   },
   "outputs": [
    {
     "data": {
      "text/html": [
       "<div>\n",
       "<table border=\"1\" class=\"dataframe\">\n",
       "  <thead>\n",
       "    <tr style=\"text-align: right;\">\n",
       "      <th></th>\n",
       "      <th>domestic_gross</th>\n",
       "      <th>year</th>\n",
       "    </tr>\n",
       "  </thead>\n",
       "  <tbody>\n",
       "    <tr>\n",
       "      <th>356</th>\n",
       "      <td>2.707041e+07</td>\n",
       "      <td>1983</td>\n",
       "    </tr>\n",
       "    <tr>\n",
       "      <th>205</th>\n",
       "      <td>4.748407e+07</td>\n",
       "      <td>1985</td>\n",
       "    </tr>\n",
       "    <tr>\n",
       "      <th>175</th>\n",
       "      <td>8.458150e+07</td>\n",
       "      <td>1986</td>\n",
       "    </tr>\n",
       "    <tr>\n",
       "      <th>306</th>\n",
       "      <td>3.174013e+08</td>\n",
       "      <td>1988</td>\n",
       "    </tr>\n",
       "    <tr>\n",
       "      <th>352</th>\n",
       "      <td>9.756790e+07</td>\n",
       "      <td>1988</td>\n",
       "    </tr>\n",
       "    <tr>\n",
       "      <th>327</th>\n",
       "      <td>1.070654e+06</td>\n",
       "      <td>1989</td>\n",
       "    </tr>\n",
       "    <tr>\n",
       "      <th>114</th>\n",
       "      <td>5.245167e+07</td>\n",
       "      <td>1989</td>\n",
       "    </tr>\n",
       "    <tr>\n",
       "      <th>339</th>\n",
       "      <td>5.128960e+07</td>\n",
       "      <td>1990</td>\n",
       "    </tr>\n",
       "    <tr>\n",
       "      <th>283</th>\n",
       "      <td>3.271665e+06</td>\n",
       "      <td>1990</td>\n",
       "    </tr>\n",
       "    <tr>\n",
       "      <th>264</th>\n",
       "      <td>3.728693e+07</td>\n",
       "      <td>1990</td>\n",
       "    </tr>\n",
       "    <tr>\n",
       "      <th>95</th>\n",
       "      <td>3.858460e+08</td>\n",
       "      <td>1991</td>\n",
       "    </tr>\n",
       "    <tr>\n",
       "      <th>346</th>\n",
       "      <td>1.444133e+07</td>\n",
       "      <td>1992</td>\n",
       "    </tr>\n",
       "    <tr>\n",
       "      <th>241</th>\n",
       "      <td>3.718037e+08</td>\n",
       "      <td>1992</td>\n",
       "    </tr>\n",
       "    <tr>\n",
       "      <th>202</th>\n",
       "      <td>1.547464e+07</td>\n",
       "      <td>1993</td>\n",
       "    </tr>\n",
       "    <tr>\n",
       "      <th>45</th>\n",
       "      <td>3.409033e+06</td>\n",
       "      <td>1994</td>\n",
       "    </tr>\n",
       "    <tr>\n",
       "      <th>395</th>\n",
       "      <td>2.213877e+07</td>\n",
       "      <td>1994</td>\n",
       "    </tr>\n",
       "    <tr>\n",
       "      <th>144</th>\n",
       "      <td>6.846701e+08</td>\n",
       "      <td>1994</td>\n",
       "    </tr>\n",
       "    <tr>\n",
       "      <th>12</th>\n",
       "      <td>3.409033e+06</td>\n",
       "      <td>1994</td>\n",
       "    </tr>\n",
       "    <tr>\n",
       "      <th>19</th>\n",
       "      <td>1.582455e+07</td>\n",
       "      <td>1994</td>\n",
       "    </tr>\n",
       "    <tr>\n",
       "      <th>109</th>\n",
       "      <td>1.140745e+05</td>\n",
       "      <td>1994</td>\n",
       "    </tr>\n",
       "    <tr>\n",
       "      <th>72</th>\n",
       "      <td>1.841863e+07</td>\n",
       "      <td>1994</td>\n",
       "    </tr>\n",
       "    <tr>\n",
       "      <th>23</th>\n",
       "      <td>3.020413e+08</td>\n",
       "      <td>1995</td>\n",
       "    </tr>\n",
       "    <tr>\n",
       "      <th>364</th>\n",
       "      <td>2.229603e+08</td>\n",
       "      <td>1995</td>\n",
       "    </tr>\n",
       "    <tr>\n",
       "      <th>186</th>\n",
       "      <td>5.566708e+07</td>\n",
       "      <td>1995</td>\n",
       "    </tr>\n",
       "    <tr>\n",
       "      <th>266</th>\n",
       "      <td>1.787138e+07</td>\n",
       "      <td>1995</td>\n",
       "    </tr>\n",
       "    <tr>\n",
       "      <th>317</th>\n",
       "      <td>1.531761e+08</td>\n",
       "      <td>1996</td>\n",
       "    </tr>\n",
       "    <tr>\n",
       "      <th>265</th>\n",
       "      <td>9.654820e+07</td>\n",
       "      <td>1996</td>\n",
       "    </tr>\n",
       "    <tr>\n",
       "      <th>189</th>\n",
       "      <td>1.383072e+08</td>\n",
       "      <td>1996</td>\n",
       "    </tr>\n",
       "    <tr>\n",
       "      <th>358</th>\n",
       "      <td>4.427706e+07</td>\n",
       "      <td>1996</td>\n",
       "    </tr>\n",
       "    <tr>\n",
       "      <th>24</th>\n",
       "      <td>1.482050e+08</td>\n",
       "      <td>1997</td>\n",
       "    </tr>\n",
       "    <tr>\n",
       "      <th>390</th>\n",
       "      <td>8.733659e+07</td>\n",
       "      <td>1997</td>\n",
       "    </tr>\n",
       "    <tr>\n",
       "      <th>184</th>\n",
       "      <td>1.336312e+08</td>\n",
       "      <td>1998</td>\n",
       "    </tr>\n",
       "    <tr>\n",
       "      <th>305</th>\n",
       "      <td>1.493200e+08</td>\n",
       "      <td>1998</td>\n",
       "    </tr>\n",
       "    <tr>\n",
       "      <th>296</th>\n",
       "      <td>1.479676e+08</td>\n",
       "      <td>1998</td>\n",
       "    </tr>\n",
       "    <tr>\n",
       "      <th>359</th>\n",
       "      <td>3.314473e+07</td>\n",
       "      <td>1998</td>\n",
       "    </tr>\n",
       "    <tr>\n",
       "      <th>49</th>\n",
       "      <td>1.776004e+08</td>\n",
       "      <td>1998</td>\n",
       "    </tr>\n",
       "    <tr>\n",
       "      <th>333</th>\n",
       "      <td>2.397034e+08</td>\n",
       "      <td>1998</td>\n",
       "    </tr>\n",
       "    <tr>\n",
       "      <th>275</th>\n",
       "      <td>3.336274e+07</td>\n",
       "      <td>1999</td>\n",
       "    </tr>\n",
       "    <tr>\n",
       "      <th>314</th>\n",
       "      <td>1.235217e+08</td>\n",
       "      <td>1999</td>\n",
       "    </tr>\n",
       "    <tr>\n",
       "      <th>248</th>\n",
       "      <td>2.464708e+08</td>\n",
       "      <td>1999</td>\n",
       "    </tr>\n",
       "    <tr>\n",
       "      <th>87</th>\n",
       "      <td>3.541688e+08</td>\n",
       "      <td>1999</td>\n",
       "    </tr>\n",
       "    <tr>\n",
       "      <th>413</th>\n",
       "      <td>7.496413e+07</td>\n",
       "      <td>1999</td>\n",
       "    </tr>\n",
       "    <tr>\n",
       "      <th>117</th>\n",
       "      <td>2.800493e+07</td>\n",
       "      <td>1999</td>\n",
       "    </tr>\n",
       "    <tr>\n",
       "      <th>82</th>\n",
       "      <td>1.488983e+08</td>\n",
       "      <td>2000</td>\n",
       "    </tr>\n",
       "    <tr>\n",
       "      <th>214</th>\n",
       "      <td>6.349064e+07</td>\n",
       "      <td>2000</td>\n",
       "    </tr>\n",
       "    <tr>\n",
       "      <th>6</th>\n",
       "      <td>8.453717e+07</td>\n",
       "      <td>2000</td>\n",
       "    </tr>\n",
       "    <tr>\n",
       "      <th>174</th>\n",
       "      <td>1.066310e+08</td>\n",
       "      <td>2000</td>\n",
       "    </tr>\n",
       "    <tr>\n",
       "      <th>15</th>\n",
       "      <td>6.098771e+07</td>\n",
       "      <td>2000</td>\n",
       "    </tr>\n",
       "    <tr>\n",
       "      <th>118</th>\n",
       "      <td>3.171209e+07</td>\n",
       "      <td>2000</td>\n",
       "    </tr>\n",
       "  </tbody>\n",
       "</table>\n",
       "</div>"
      ],
      "text/plain": [
       "     domestic_gross  year\n",
       "356    2.707041e+07  1983\n",
       "205    4.748407e+07  1985\n",
       "175    8.458150e+07  1986\n",
       "306    3.174013e+08  1988\n",
       "352    9.756790e+07  1988\n",
       "327    1.070654e+06  1989\n",
       "114    5.245167e+07  1989\n",
       "339    5.128960e+07  1990\n",
       "283    3.271665e+06  1990\n",
       "264    3.728693e+07  1990\n",
       "95     3.858460e+08  1991\n",
       "346    1.444133e+07  1992\n",
       "241    3.718037e+08  1992\n",
       "202    1.547464e+07  1993\n",
       "45     3.409033e+06  1994\n",
       "395    2.213877e+07  1994\n",
       "144    6.846701e+08  1994\n",
       "12     3.409033e+06  1994\n",
       "19     1.582455e+07  1994\n",
       "109    1.140745e+05  1994\n",
       "72     1.841863e+07  1994\n",
       "23     3.020413e+08  1995\n",
       "364    2.229603e+08  1995\n",
       "186    5.566708e+07  1995\n",
       "266    1.787138e+07  1995\n",
       "317    1.531761e+08  1996\n",
       "265    9.654820e+07  1996\n",
       "189    1.383072e+08  1996\n",
       "358    4.427706e+07  1996\n",
       "24     1.482050e+08  1997\n",
       "390    8.733659e+07  1997\n",
       "184    1.336312e+08  1998\n",
       "305    1.493200e+08  1998\n",
       "296    1.479676e+08  1998\n",
       "359    3.314473e+07  1998\n",
       "49     1.776004e+08  1998\n",
       "333    2.397034e+08  1998\n",
       "275    3.336274e+07  1999\n",
       "314    1.235217e+08  1999\n",
       "248    2.464708e+08  1999\n",
       "87     3.541688e+08  1999\n",
       "413    7.496413e+07  1999\n",
       "117    2.800493e+07  1999\n",
       "82     1.488983e+08  2000\n",
       "214    6.349064e+07  2000\n",
       "6      8.453717e+07  2000\n",
       "174    1.066310e+08  2000\n",
       "15     6.098771e+07  2000\n",
       "118    3.171209e+07  2000"
      ]
     },
     "execution_count": 31,
     "metadata": {},
     "output_type": "execute_result"
    }
   ],
   "source": [
    "df_year = df_year.sort_values('year')\n",
    "df_year[1:50]"
   ]
  },
  {
   "cell_type": "code",
   "execution_count": 25,
   "metadata": {
    "collapsed": true
   },
   "outputs": [],
   "source": [
    "df_year.domestic_gross = pd.to_numeric(df_year['domestic_gross'])"
   ]
  },
  {
   "cell_type": "code",
   "execution_count": 38,
   "metadata": {
    "collapsed": false
   },
   "outputs": [
    {
     "data": {
      "text/plain": [
       "127324013.5567582"
      ]
     },
     "execution_count": 38,
     "metadata": {},
     "output_type": "execute_result"
    }
   ],
   "source": [
    "mu = df_year.domestic_gross.mean()\n",
    "mu"
   ]
  },
  {
   "cell_type": "code",
   "execution_count": 39,
   "metadata": {
    "collapsed": false
   },
   "outputs": [
    {
     "data": {
      "text/plain": [
       "120455300.45290825"
      ]
     },
     "execution_count": 39,
     "metadata": {},
     "output_type": "execute_result"
    }
   ],
   "source": [
    "sigma = df_year.domestic_gross.std()\n",
    "sigma"
   ]
  },
  {
   "cell_type": "code",
   "execution_count": 45,
   "metadata": {
    "collapsed": false
   },
   "outputs": [
    {
     "data": {
      "image/png": "[encoded data removed]",
      "text/plain": [
       "<matplotlib.figure.Figure at 0x1201492d0>"
      ]
     },
     "metadata": {},
     "output_type": "display_data"
    }
   ],
   "source": [
    "\n",
    "plt.plot(df_year.year, df_year.domestic_gross)\n",
    "from matplotlib.ticker import ScalarFormatter, FormatStrFormatter\n",
    "\n",
    "\n",
    "plt.xlabel('Year of Release')\n",
    "plt.ylabel('Domestic Total Gross')\n",
    "plt.title('Domestic Total Gross over time')\n",
    "\n",
    "\n",
    "\n",
    "plt.show()"
   ]
  },
  {
   "cell_type": "code",
   "execution_count": 86,
   "metadata": {
    "collapsed": false
   },
   "outputs": [
    {
     "data": {
      "text/plain": [
       "PG         145\n",
       "G           54\n",
       "PG-13        8\n",
       "R            6\n",
       "Unrated      3\n",
       "Name: rating, dtype: int64"
      ]
     },
     "execution_count": 86,
     "metadata": {},
     "output_type": "execute_result"
    }
   ],
   "source": [
    "df.rating.value_counts()"
   ]
  },
  {
   "cell_type": "code",
   "execution_count": 96,
   "metadata": {
    "collapsed": false
   },
   "outputs": [],
   "source": [
    "df_ratings = df.groupby('rating')['domestic_gross'].mean().astype(int)"
   ]
  },
  {
   "cell_type": "code",
   "execution_count": 118,
   "metadata": {
    "collapsed": false
   },
   "outputs": [
    {
     "ename": "TypeError",
     "evalue": "filter() takes at least 2 arguments (1 given)",
     "output_type": "error",
     "traceback": [
      "\u001b[0;31m---------------------------------------------------------------------------\u001b[0m",
      "\u001b[0;31mTypeError\u001b[0m                                 Traceback (most recent call last)",
      "\u001b[0;32m<ipython-input-118-b219db5e9afa>\u001b[0m in \u001b[0;36m<module>\u001b[0;34m()\u001b[0m\n\u001b[0;32m----> 1\u001b[0;31m \u001b[0mdf\u001b[0m\u001b[0;34m.\u001b[0m\u001b[0mgroupby\u001b[0m\u001b[0;34m(\u001b[0m\u001b[0;34m'rating'\u001b[0m\u001b[0;34m)\u001b[0m\u001b[0;34m.\u001b[0m\u001b[0mfilter\u001b[0m\u001b[0;34m(\u001b[0m\u001b[0mlike\u001b[0m \u001b[0;34m=\u001b[0m \u001b[0;34m'R'\u001b[0m\u001b[0;34m,\u001b[0m \u001b[0maxis\u001b[0m \u001b[0;34m=\u001b[0m \u001b[0;36m0\u001b[0m\u001b[0;34m)\u001b[0m\u001b[0;34m\u001b[0m\u001b[0m\n\u001b[0m",
      "\u001b[0;31mTypeError\u001b[0m: filter() takes at least 2 arguments (1 given)"
     ]
    }
   ],
   "source": [
    "df.groupby('rating').filter(like = 'R', axis = 0)"
   ]
  },
  {
   "cell_type": "code",
   "execution_count": 90,
   "metadata": {
    "collapsed": false
   },
   "outputs": [
    {
     "data": {
      "text/plain": [
       "rating\n",
       "G           8715323636\n",
       "PG         18178735192\n",
       "PG-13        425982256\n",
       "R            181940513\n",
       "Unrated           5329\n",
       "Name: domestic_gross, dtype: int64"
      ]
     },
     "execution_count": 90,
     "metadata": {},
     "output_type": "execute_result"
    }
   ],
   "source": [
    "df_ratings "
   ]
  },
  {
   "cell_type": "code",
   "execution_count": 98,
   "metadata": {
    "collapsed": false
   },
   "outputs": [],
   "source": [
    "PG = 125370587/145\n",
    "G = 161394882/54\n",
    "PG13 = 53247782/8\n",
    "R = 30323418/6\n",
    "Unrated = 1776/3"
   ]
  },
  {
   "cell_type": "code",
   "execution_count": 99,
   "metadata": {
    "collapsed": false
   },
   "outputs": [
    {
     "name": "stdout",
     "output_type": "stream",
     "text": [
      "2988794 864624 6655972 5053903 592\n"
     ]
    }
   ],
   "source": [
    "print G, PG,  PG13, R, Unrated"
   ]
  },
  {
   "cell_type": "code",
   "execution_count": 97,
   "metadata": {
    "collapsed": false
   },
   "outputs": [
    {
     "data": {
      "text/plain": [
       "rating\n",
       "G          161394882\n",
       "PG         125370587\n",
       "PG-13       53247782\n",
       "R           30323418\n",
       "Unrated         1776\n",
       "Name: domestic_gross, dtype: int64"
      ]
     },
     "execution_count": 97,
     "metadata": {},
     "output_type": "execute_result"
    }
   ],
   "source": [
    "df_ratings"
   ]
  },
  {
   "cell_type": "code",
   "execution_count": 48,
   "metadata": {
    "collapsed": false
   },
   "outputs": [
    {
     "data": {
      "text/plain": [
       "8715323636"
      ]
     },
     "execution_count": 48,
     "metadata": {},
     "output_type": "execute_result"
    }
   ],
   "source": [
    "df_ratings.G"
   ]
  },
  {
   "cell_type": "code",
   "execution_count": 100,
   "metadata": {
    "collapsed": false
   },
   "outputs": [
    {
     "data": {
      "image/png": "[encoded data removed]",
      "text/plain": [
       "<matplotlib.figure.Figure at 0x123537710>"
      ]
     },
     "metadata": {},
     "output_type": "display_data"
    }
   ],
   "source": [
    "\n",
    "\n",
    "\n",
    "\n",
    "y = [2988794, 864624, 6655972, 5053903, 592]\n",
    "x =range(len(y))\n",
    "\n",
    "\n",
    "bar_width = 0.35\n",
    "\n",
    "opacity = 0.4\n",
    "\n",
    "\n",
    "plt.bar(x, y,bar_width,\n",
    "                 alpha=opacity,\n",
    "                 color='b')\n",
    "\n",
    "\n",
    "plt.xlabel('MPAA Ratings per number of movies')\n",
    "plt.ylabel('Average Domestic Gross')\n",
    "plt.title('Average Domestic Gross Across Ratings')\n",
    "plt.xticks(index+bar_width/2 , ('G', 'PG', 'PG-13', 'R', 'Unrated'))\n",
    "plt.legend()\n",
    "\n",
    "plt.tight_layout()\n",
    "plt.show()"
   ]
  },
  {
   "cell_type": "code",
   "execution_count": 63,
   "metadata": {
    "collapsed": true
   },
   "outputs": [],
   "source": [
    "movies_month_ave = df.groupby('month')['domestic_gross'].mean()"
   ]
  },
  {
   "cell_type": "code",
   "execution_count": 106,
   "metadata": {
    "collapsed": false
   },
   "outputs": [
    {
     "data": {
      "text/plain": [
       "1      4\n",
       "2     14\n",
       "3     17\n",
       "4     10\n",
       "5     15\n",
       "6     29\n",
       "7     24\n",
       "8     11\n",
       "9     15\n",
       "10    12\n",
       "11    49\n",
       "12    16\n",
       "Name: month, dtype: int64"
      ]
     },
     "execution_count": 106,
     "metadata": {},
     "output_type": "execute_result"
    }
   ],
   "source": [
    "freq_month = df.month.value_counts().sort_index()\n",
    "freq_month"
   ]
  },
  {
   "cell_type": "code",
   "execution_count": 102,
   "metadata": {
    "collapsed": false
   },
   "outputs": [
    {
     "data": {
      "text/plain": [
       "month\n",
       "1      77811878\n",
       "2      72746844\n",
       "3     154484803\n",
       "4      57940989\n",
       "5     235516310\n",
       "6     210928421\n",
       "7     114131548\n",
       "8      48267372\n",
       "9      65014068\n",
       "10     62587920\n",
       "11    148734021\n",
       "12     64539484\n",
       "Name: domestic_gross, dtype: int64"
      ]
     },
     "execution_count": 102,
     "metadata": {},
     "output_type": "execute_result"
    }
   ],
   "source": [
    "movies_month_ave = movies_month_ave.astype('int')\n",
    "movies_month_ave"
   ]
  },
  {
   "cell_type": "code",
   "execution_count": 112,
   "metadata": {
    "collapsed": false
   },
   "outputs": [
    {
     "data": {
      "text/plain": [
       "month\n",
       "1     1.945297e+07\n",
       "2     5.196203e+06\n",
       "3     9.087341e+06\n",
       "4     5.794099e+06\n",
       "5     1.570109e+07\n",
       "6     7.273394e+06\n",
       "7     4.755481e+06\n",
       "8     4.387943e+06\n",
       "9     4.334271e+06\n",
       "10    5.215660e+06\n",
       "11    3.035388e+06\n",
       "12    4.033718e+06\n",
       "dtype: float64"
      ]
     },
     "execution_count": 112,
     "metadata": {},
     "output_type": "execute_result"
    }
   ],
   "source": [
    "ave_month_freq = movies_month_ave/freq_month\n",
    "ave_month_freq"
   ]
  },
  {
   "cell_type": "code",
   "execution_count": 113,
   "metadata": {
    "collapsed": false
   },
   "outputs": [
    {
     "data": {
      "image/png": "[encoded data removed]",
      "text/plain": [
       "<matplotlib.figure.Figure at 0x123537510>"
      ]
     },
     "metadata": {},
     "output_type": "display_data"
    }
   ],
   "source": [
    "width = 1\n",
    "month = [1,2,3,4,5,6,7,8,9,10,11,12]\n",
    "\n",
    "plt.bar(month, ave_month_freq, color = 'yellow', width =1)\n",
    "\n",
    "plt.bar\n",
    "plt.xlabel('Months')\n",
    "plt.ylabel('Domestic Gross Average per movie')\n",
    "bar_width = 0.35\n",
    "plt.xticks(month,['Jan', 'Feb', 'Mar', 'Apr', 'May', 'Jun', 'Jul', 'Aug', 'Sep', 'Oct', 'Nov', 'Dec'])\n",
    "plt.title('Domestic Gross Average by Month')\n",
    "\n",
    "\n",
    "plt.show()"
   ]
  },
  {
   "cell_type": "code",
   "execution_count": null,
   "metadata": {
    "collapsed": true
   },
   "outputs": [],
   "source": []
  }
 ],
 "metadata": {
  "kernelspec": {
   "display_name": "Python 2",
   "language": "python",
   "name": "python2"
  },
  "language_info": {
   "codemirror_mode": {
    "name": "ipython",
    "version": 2
   },
   "file_extension": ".py",
   "mimetype": "text/x-python",
   "name": "python",
   "nbconvert_exporter": "python",
   "pygments_lexer": "ipython2",
   "version": "2.7.13"
  }
 },
 "nbformat": 4,
 "nbformat_minor": 0
}
