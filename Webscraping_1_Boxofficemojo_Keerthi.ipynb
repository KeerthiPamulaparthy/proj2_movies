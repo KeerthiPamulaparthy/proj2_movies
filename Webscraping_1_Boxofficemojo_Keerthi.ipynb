{
 "cells": [
  {
   "cell_type": "markdown",
   "metadata": {},
   "source": [
    "# Code to scrape movie data from Boxoffice Mojo"
   ]
  },
  {
   "cell_type": "code",
   "execution_count": 4,
   "metadata": {
    "collapsed": false
   },
   "outputs": [],
   "source": [
    "#Imports\n",
    "import re\n",
    "import pandas as pd\n",
    "import requests\n",
    "import numpy as np\n",
    "import dateutil.parser"
   ]
  },
  {
   "cell_type": "code",
   "execution_count": 5,
   "metadata": {
    "collapsed": false
   },
   "outputs": [],
   "source": [
    "from bs4 import BeautifulSoup\n"
   ]
  },
  {
   "cell_type": "code",
   "execution_count": 22,
   "metadata": {
    "collapsed": false,
    "scrolled": true
   },
   "outputs": [
    {
     "data": {
      "text/plain": [
       "423"
      ]
     },
     "execution_count": 22,
     "metadata": {},
     "output_type": "execute_result"
    }
   ],
   "source": [
    "#Add scrapped items to a dictionary\n",
    "movies={}\n",
    "website = 'http://www.boxofficemojo.com'\n",
    "#num, is a variable generate numbers for the different pages that will be scrapped\n",
    "num = range(1,6)\n",
    "\n",
    "#Helper functions to parse the scrapped data\n",
    "def to_date(datestring):\n",
    "    date = dateutil.parser.parse(datestring)\n",
    "    return date\n",
    "\n",
    "def money_to_int(moneystring):\n",
    "    if ' million' in moneystring:\n",
    "        moneystring = moneystring.replace('$', '').replace(' million', '')\n",
    "        moneystring=int(moneystring)*1000000\n",
    "        return int(moneystring)\n",
    "    if '$' in moneystring: \n",
    "        moneystring = moneystring.replace('$', '').replace(',', '')\n",
    "        return int(moneystring)\n",
    "        \n",
    "def runtime_to_minutes(runtimestring):\n",
    "    runtime = runtimestring.split()\n",
    "    try:\n",
    "        minutes = int(runtime[0])*60 + int(runtime[2])\n",
    "        return minutes\n",
    "    except:\n",
    "        return None\n",
    "\n",
    "#1st for loop to loop through multiple pages of data\n",
    "for i in num:\n",
    "    url = 'http://www.boxofficemojo.com/genres/chart/?view=main&sort=gross&order=DESC&pagenum='+str(i)+'&id=animation.htm'\n",
    "    \n",
    "\n",
    "    response = requests.get(url)\n",
    "    page = response.text\n",
    "    soup = BeautifulSoup(page,\"lxml\")\n",
    "    soup.prettify()\n",
    "#Find tags and scrape the required data\n",
    "    tables = soup.find_all('table')\n",
    "    rows=[row for row in tables[3].find_all('tr')]\n",
    "\n",
    "\n",
    "#2nd for loop, to loop through the lines in the table\n",
    "#try and except statements, to move onto to the next item, if data not available\n",
    "    for row in rows[1:101]:\n",
    "        try:\n",
    "            directors=[]\n",
    "            writers=[]\n",
    "            actors=[]\n",
    "            items = row.find_all('td')\n",
    "            name = items[1].find('a').text\n",
    "            movie_link= items[1].find('a')['href']\n",
    "            release_date = to_date(items[7].find('a').text)\n",
    "            domestic_gross = money_to_int(items[3].find('b').text)\n",
    "        except:\n",
    "            next\n",
    "\n",
    "#movie_url, will take us to the url of the movie, from where we will get data on foreign gross, world gross, prodn budget, distributor etc\n",
    "        movie_url = website+movie_link\n",
    "        movie_soup = BeautifulSoup(requests.get(movie_url).text, \"lxml\")\n",
    "\n",
    "        movie_table = movie_soup.find('table').find_all('table')[1].find_all('table')[0].find_all('td')\n",
    "        try:\n",
    "            \n",
    "            other_table = movie_soup.find('table').find_all('table')[1].find_all('table')[3].find_all('table')[0].find_all('td')\n",
    "            people_table = other_table[0].find_all('div', class_ = \"mp_box\")[2].find_all('a')\n",
    "            \n",
    "            foreign_gross = money_to_int(other_table[1].find_all('div')[0].find_all('td')[4].text)\n",
    "            world_gross = money_to_int(other_table[1].find_all('div')[0].find_all('td')[8].text)\n",
    "            production_budget = money_to_int(movie_table[1].find_all('td')[7].find('b').text)\n",
    "            distributor = movie_table[1].find_all('td')[2].find('a').text\n",
    "            runtime = runtime_to_minutes(movie_table[1].find_all('td')[5].find('b').text)\n",
    "            rating = movie_table[1].find_all('td')[6].find('b').text\n",
    "\n",
    "\n",
    "\n",
    "\n",
    "\n",
    "            for i in people_table:\n",
    "                if '/people/chart/?view=Director' in i['href'] :\n",
    "                    directors.append(i.text)\n",
    "                if '/people/chart/?view=Writer' in i['href']:\n",
    "                    writers.append(i.text)\n",
    "                if '/people/chart/?view=Actor' in i['href'] and ((i.text)[-1] != '*'):\n",
    "                    actors.append(i.text)\n",
    "        except:\n",
    "            next\n",
    "\n",
    "\n",
    "#assign the scrapped items to the dictionary\n",
    "        movies[name] = [domestic_gross,foreign_gross,world_gross,production_budget,release_date,distributor,runtime,rating,directors,writers,actors]\n",
    "len(movies.items())"
   ]
  },
  {
   "cell_type": "code",
   "execution_count": 26,
   "metadata": {
    "collapsed": false
   },
   "outputs": [
    {
     "data": {
      "text/plain": [
       "(u'Sinbad: Legend of the Seven Seas',\n",
       " [26483452,\n",
       "  54284432,\n",
       "  80767884,\n",
       "  60000000,\n",
       "  datetime.datetime(2003, 7, 2, 0, 0),\n",
       "  u'DreamWorks',\n",
       "  86,\n",
       "  u'PG',\n",
       "  [u'Tim Johnson'],\n",
       "  [u'John Logan'],\n",
       "  [u'Brad Pitt', u'Catherine Zeta-Jones', u'Michelle Pfeiffer']])"
      ]
     },
     "execution_count": 26,
     "metadata": {},
     "output_type": "execute_result"
    }
   ],
   "source": [
    "movies.items()[400]"
   ]
  },
  {
   "cell_type": "code",
   "execution_count": 27,
   "metadata": {
    "collapsed": true
   },
   "outputs": [],
   "source": [
    "#convert from dictionary to dataframe\n",
    "movies_df = pd.DataFrame.from_dict(movies, orient = 'index')"
   ]
  },
  {
   "cell_type": "code",
   "execution_count": 28,
   "metadata": {
    "collapsed": false
   },
   "outputs": [
    {
     "data": {
      "text/html": [
       "<div>\n",
       "<table border=\"1\" class=\"dataframe\">\n",
       "  <thead>\n",
       "    <tr style=\"text-align: right;\">\n",
       "      <th></th>\n",
       "      <th>0</th>\n",
       "      <th>1</th>\n",
       "      <th>2</th>\n",
       "      <th>3</th>\n",
       "      <th>4</th>\n",
       "      <th>5</th>\n",
       "      <th>6</th>\n",
       "      <th>7</th>\n",
       "      <th>8</th>\n",
       "      <th>9</th>\n",
       "      <th>10</th>\n",
       "    </tr>\n",
       "  </thead>\n",
       "  <tbody>\n",
       "    <tr>\n",
       "      <th>Everyone's Hero</th>\n",
       "      <td>14523101.0</td>\n",
       "      <td>2104087.0</td>\n",
       "      <td>16627188</td>\n",
       "      <td>NaN</td>\n",
       "      <td>2006-09-15</td>\n",
       "      <td>Fox</td>\n",
       "      <td>88.0</td>\n",
       "      <td>G</td>\n",
       "      <td>[]</td>\n",
       "      <td>[]</td>\n",
       "      <td>[Raven-Symone, Forest Whitaker]</td>\n",
       "    </tr>\n",
       "    <tr>\n",
       "      <th>Fire and Ice</th>\n",
       "      <td>760883.0</td>\n",
       "      <td>NaN</td>\n",
       "      <td>857522</td>\n",
       "      <td>NaN</td>\n",
       "      <td>1983-08-26</td>\n",
       "      <td>GKIDS</td>\n",
       "      <td>93.0</td>\n",
       "      <td>PG</td>\n",
       "      <td>[]</td>\n",
       "      <td>[]</td>\n",
       "      <td>[]</td>\n",
       "    </tr>\n",
       "    <tr>\n",
       "      <th>Light Years</th>\n",
       "      <td>370698.0</td>\n",
       "      <td>12572253.0</td>\n",
       "      <td>12947880</td>\n",
       "      <td>NaN</td>\n",
       "      <td>1988-01-29</td>\n",
       "      <td>Eleven Arts</td>\n",
       "      <td>116.0</td>\n",
       "      <td>Unrated</td>\n",
       "      <td>[]</td>\n",
       "      <td>[]</td>\n",
       "      <td>[]</td>\n",
       "    </tr>\n",
       "    <tr>\n",
       "      <th>Ratchet &amp; Clank</th>\n",
       "      <td>8821329.0</td>\n",
       "      <td>NaN</td>\n",
       "      <td>8821329</td>\n",
       "      <td>NaN</td>\n",
       "      <td>2016-04-29</td>\n",
       "      <td>Focus Features</td>\n",
       "      <td>94.0</td>\n",
       "      <td>PG</td>\n",
       "      <td>[]</td>\n",
       "      <td>[]</td>\n",
       "      <td>[Rosario Dawson, Paul Giamatti, John Goodman, ...</td>\n",
       "    </tr>\n",
       "    <tr>\n",
       "      <th>Home (2015)</th>\n",
       "      <td>177397510.0</td>\n",
       "      <td>208644097.0</td>\n",
       "      <td>386041607</td>\n",
       "      <td>135000000.0</td>\n",
       "      <td>2015-03-27</td>\n",
       "      <td>Fox</td>\n",
       "      <td>94.0</td>\n",
       "      <td>PG</td>\n",
       "      <td>[Tim Johnson]</td>\n",
       "      <td>[Tom J. Astle, Matt Ember]</td>\n",
       "      <td>[Rihanna, Steve Martin, Jennifer Lopez]</td>\n",
       "    </tr>\n",
       "  </tbody>\n",
       "</table>\n",
       "</div>"
      ],
      "text/plain": [
       "                          0            1          2            3          4   \\\n",
       "Everyone's Hero   14523101.0    2104087.0   16627188          NaN 2006-09-15   \n",
       "Fire and Ice        760883.0          NaN     857522          NaN 1983-08-26   \n",
       "Light Years         370698.0   12572253.0   12947880          NaN 1988-01-29   \n",
       "Ratchet & Clank    8821329.0          NaN    8821329          NaN 2016-04-29   \n",
       "Home (2015)      177397510.0  208644097.0  386041607  135000000.0 2015-03-27   \n",
       "\n",
       "                             5      6        7              8   \\\n",
       "Everyone's Hero             Fox   88.0        G             []   \n",
       "Fire and Ice              GKIDS   93.0       PG             []   \n",
       "Light Years         Eleven Arts  116.0  Unrated             []   \n",
       "Ratchet & Clank  Focus Features   94.0       PG             []   \n",
       "Home (2015)                 Fox   94.0       PG  [Tim Johnson]   \n",
       "\n",
       "                                         9   \\\n",
       "Everyone's Hero                          []   \n",
       "Fire and Ice                             []   \n",
       "Light Years                              []   \n",
       "Ratchet & Clank                          []   \n",
       "Home (2015)      [Tom J. Astle, Matt Ember]   \n",
       "\n",
       "                                                                10  \n",
       "Everyone's Hero                    [Raven-Symone, Forest Whitaker]  \n",
       "Fire and Ice                                                    []  \n",
       "Light Years                                                     []  \n",
       "Ratchet & Clank  [Rosario Dawson, Paul Giamatti, John Goodman, ...  \n",
       "Home (2015)                [Rihanna, Steve Martin, Jennifer Lopez]  "
      ]
     },
     "execution_count": 28,
     "metadata": {},
     "output_type": "execute_result"
    }
   ],
   "source": [
    "movies_df.head()"
   ]
  },
  {
   "cell_type": "code",
   "execution_count": 29,
   "metadata": {
    "collapsed": false
   },
   "outputs": [
    {
     "data": {
      "text/plain": [
       "423"
      ]
     },
     "execution_count": 29,
     "metadata": {},
     "output_type": "execute_result"
    }
   ],
   "source": [
    "len(movies_df)"
   ]
  },
  {
   "cell_type": "code",
   "execution_count": 30,
   "metadata": {
    "collapsed": true
   },
   "outputs": [],
   "source": [
    "#Clean-up the data frame\n",
    "movies_df = movies_df.reset_index()"
   ]
  },
  {
   "cell_type": "code",
   "execution_count": 31,
   "metadata": {
    "collapsed": false
   },
   "outputs": [
    {
     "data": {
      "text/html": [
       "<div>\n",
       "<table border=\"1\" class=\"dataframe\">\n",
       "  <thead>\n",
       "    <tr style=\"text-align: right;\">\n",
       "      <th></th>\n",
       "      <th>index</th>\n",
       "      <th>0</th>\n",
       "      <th>1</th>\n",
       "      <th>2</th>\n",
       "      <th>3</th>\n",
       "      <th>4</th>\n",
       "      <th>5</th>\n",
       "      <th>6</th>\n",
       "      <th>7</th>\n",
       "      <th>8</th>\n",
       "      <th>9</th>\n",
       "      <th>10</th>\n",
       "    </tr>\n",
       "  </thead>\n",
       "  <tbody>\n",
       "    <tr>\n",
       "      <th>0</th>\n",
       "      <td>Everyone's Hero</td>\n",
       "      <td>14523101.0</td>\n",
       "      <td>2104087.0</td>\n",
       "      <td>16627188</td>\n",
       "      <td>NaN</td>\n",
       "      <td>2006-09-15</td>\n",
       "      <td>Fox</td>\n",
       "      <td>88.0</td>\n",
       "      <td>G</td>\n",
       "      <td>[]</td>\n",
       "      <td>[]</td>\n",
       "      <td>[Raven-Symone, Forest Whitaker]</td>\n",
       "    </tr>\n",
       "    <tr>\n",
       "      <th>1</th>\n",
       "      <td>Fire and Ice</td>\n",
       "      <td>760883.0</td>\n",
       "      <td>NaN</td>\n",
       "      <td>857522</td>\n",
       "      <td>NaN</td>\n",
       "      <td>1983-08-26</td>\n",
       "      <td>GKIDS</td>\n",
       "      <td>93.0</td>\n",
       "      <td>PG</td>\n",
       "      <td>[]</td>\n",
       "      <td>[]</td>\n",
       "      <td>[]</td>\n",
       "    </tr>\n",
       "    <tr>\n",
       "      <th>2</th>\n",
       "      <td>Light Years</td>\n",
       "      <td>370698.0</td>\n",
       "      <td>12572253.0</td>\n",
       "      <td>12947880</td>\n",
       "      <td>NaN</td>\n",
       "      <td>1988-01-29</td>\n",
       "      <td>Eleven Arts</td>\n",
       "      <td>116.0</td>\n",
       "      <td>Unrated</td>\n",
       "      <td>[]</td>\n",
       "      <td>[]</td>\n",
       "      <td>[]</td>\n",
       "    </tr>\n",
       "    <tr>\n",
       "      <th>3</th>\n",
       "      <td>Ratchet &amp; Clank</td>\n",
       "      <td>8821329.0</td>\n",
       "      <td>NaN</td>\n",
       "      <td>8821329</td>\n",
       "      <td>NaN</td>\n",
       "      <td>2016-04-29</td>\n",
       "      <td>Focus Features</td>\n",
       "      <td>94.0</td>\n",
       "      <td>PG</td>\n",
       "      <td>[]</td>\n",
       "      <td>[]</td>\n",
       "      <td>[Rosario Dawson, Paul Giamatti, John Goodman, ...</td>\n",
       "    </tr>\n",
       "    <tr>\n",
       "      <th>4</th>\n",
       "      <td>Home (2015)</td>\n",
       "      <td>177397510.0</td>\n",
       "      <td>208644097.0</td>\n",
       "      <td>386041607</td>\n",
       "      <td>135000000.0</td>\n",
       "      <td>2015-03-27</td>\n",
       "      <td>Fox</td>\n",
       "      <td>94.0</td>\n",
       "      <td>PG</td>\n",
       "      <td>[Tim Johnson]</td>\n",
       "      <td>[Tom J. Astle, Matt Ember]</td>\n",
       "      <td>[Rihanna, Steve Martin, Jennifer Lopez]</td>\n",
       "    </tr>\n",
       "  </tbody>\n",
       "</table>\n",
       "</div>"
      ],
      "text/plain": [
       "             index            0            1          2            3  \\\n",
       "0  Everyone's Hero   14523101.0    2104087.0   16627188          NaN   \n",
       "1     Fire and Ice     760883.0          NaN     857522          NaN   \n",
       "2      Light Years     370698.0   12572253.0   12947880          NaN   \n",
       "3  Ratchet & Clank    8821329.0          NaN    8821329          NaN   \n",
       "4      Home (2015)  177397510.0  208644097.0  386041607  135000000.0   \n",
       "\n",
       "           4               5      6        7              8  \\\n",
       "0 2006-09-15             Fox   88.0        G             []   \n",
       "1 1983-08-26           GKIDS   93.0       PG             []   \n",
       "2 1988-01-29     Eleven Arts  116.0  Unrated             []   \n",
       "3 2016-04-29  Focus Features   94.0       PG             []   \n",
       "4 2015-03-27             Fox   94.0       PG  [Tim Johnson]   \n",
       "\n",
       "                            9  \\\n",
       "0                          []   \n",
       "1                          []   \n",
       "2                          []   \n",
       "3                          []   \n",
       "4  [Tom J. Astle, Matt Ember]   \n",
       "\n",
       "                                                  10  \n",
       "0                    [Raven-Symone, Forest Whitaker]  \n",
       "1                                                 []  \n",
       "2                                                 []  \n",
       "3  [Rosario Dawson, Paul Giamatti, John Goodman, ...  \n",
       "4            [Rihanna, Steve Martin, Jennifer Lopez]  "
      ]
     },
     "execution_count": 31,
     "metadata": {},
     "output_type": "execute_result"
    }
   ],
   "source": [
    "movies_df.head()"
   ]
  },
  {
   "cell_type": "code",
   "execution_count": 32,
   "metadata": {
    "collapsed": false
   },
   "outputs": [
    {
     "data": {
      "text/plain": [
       "Index([u'index', 0, 1, 2, 3, 4, 5, 6, 7, 8, 9, 10], dtype='object')"
      ]
     },
     "execution_count": 32,
     "metadata": {},
     "output_type": "execute_result"
    }
   ],
   "source": [
    "movies_df.columns"
   ]
  },
  {
   "cell_type": "code",
   "execution_count": 33,
   "metadata": {
    "collapsed": false
   },
   "outputs": [],
   "source": [
    "movies_df.columns = ['movie_name','domestic_gross','foreign_gross','world_gross','production_budget',\n",
    "                           'release_date','distributor','runtime','rating','directors','writers','actors']"
   ]
  },
  {
   "cell_type": "code",
   "execution_count": 34,
   "metadata": {
    "collapsed": false
   },
   "outputs": [
    {
     "data": {
      "text/plain": [
       "Index([u'movie_name', u'domestic_gross', u'foreign_gross', u'world_gross',\n",
       "       u'production_budget', u'release_date', u'distributor', u'runtime',\n",
       "       u'rating', u'directors', u'writers', u'actors'],\n",
       "      dtype='object')"
      ]
     },
     "execution_count": 34,
     "metadata": {},
     "output_type": "execute_result"
    }
   ],
   "source": [
    "movies_df.columns"
   ]
  },
  {
   "cell_type": "code",
   "execution_count": 35,
   "metadata": {
    "collapsed": false,
    "scrolled": true
   },
   "outputs": [
    {
     "data": {
      "text/html": [
       "<div>\n",
       "<table border=\"1\" class=\"dataframe\">\n",
       "  <thead>\n",
       "    <tr style=\"text-align: right;\">\n",
       "      <th></th>\n",
       "      <th>movie_name</th>\n",
       "      <th>domestic_gross</th>\n",
       "      <th>foreign_gross</th>\n",
       "      <th>world_gross</th>\n",
       "      <th>production_budget</th>\n",
       "      <th>release_date</th>\n",
       "      <th>distributor</th>\n",
       "      <th>runtime</th>\n",
       "      <th>rating</th>\n",
       "      <th>directors</th>\n",
       "      <th>writers</th>\n",
       "      <th>actors</th>\n",
       "    </tr>\n",
       "  </thead>\n",
       "  <tbody>\n",
       "    <tr>\n",
       "      <th>0</th>\n",
       "      <td>Everyone's Hero</td>\n",
       "      <td>14523101.0</td>\n",
       "      <td>2104087.0</td>\n",
       "      <td>16627188</td>\n",
       "      <td>NaN</td>\n",
       "      <td>2006-09-15</td>\n",
       "      <td>Fox</td>\n",
       "      <td>88.0</td>\n",
       "      <td>G</td>\n",
       "      <td>[]</td>\n",
       "      <td>[]</td>\n",
       "      <td>[Raven-Symone, Forest Whitaker]</td>\n",
       "    </tr>\n",
       "    <tr>\n",
       "      <th>1</th>\n",
       "      <td>Fire and Ice</td>\n",
       "      <td>760883.0</td>\n",
       "      <td>NaN</td>\n",
       "      <td>857522</td>\n",
       "      <td>NaN</td>\n",
       "      <td>1983-08-26</td>\n",
       "      <td>GKIDS</td>\n",
       "      <td>93.0</td>\n",
       "      <td>PG</td>\n",
       "      <td>[]</td>\n",
       "      <td>[]</td>\n",
       "      <td>[]</td>\n",
       "    </tr>\n",
       "    <tr>\n",
       "      <th>2</th>\n",
       "      <td>Light Years</td>\n",
       "      <td>370698.0</td>\n",
       "      <td>12572253.0</td>\n",
       "      <td>12947880</td>\n",
       "      <td>NaN</td>\n",
       "      <td>1988-01-29</td>\n",
       "      <td>Eleven Arts</td>\n",
       "      <td>116.0</td>\n",
       "      <td>Unrated</td>\n",
       "      <td>[]</td>\n",
       "      <td>[]</td>\n",
       "      <td>[]</td>\n",
       "    </tr>\n",
       "    <tr>\n",
       "      <th>3</th>\n",
       "      <td>Ratchet &amp; Clank</td>\n",
       "      <td>8821329.0</td>\n",
       "      <td>NaN</td>\n",
       "      <td>8821329</td>\n",
       "      <td>NaN</td>\n",
       "      <td>2016-04-29</td>\n",
       "      <td>Focus Features</td>\n",
       "      <td>94.0</td>\n",
       "      <td>PG</td>\n",
       "      <td>[]</td>\n",
       "      <td>[]</td>\n",
       "      <td>[Rosario Dawson, Paul Giamatti, John Goodman, ...</td>\n",
       "    </tr>\n",
       "    <tr>\n",
       "      <th>4</th>\n",
       "      <td>Home (2015)</td>\n",
       "      <td>177397510.0</td>\n",
       "      <td>208644097.0</td>\n",
       "      <td>386041607</td>\n",
       "      <td>135000000.0</td>\n",
       "      <td>2015-03-27</td>\n",
       "      <td>Fox</td>\n",
       "      <td>94.0</td>\n",
       "      <td>PG</td>\n",
       "      <td>[Tim Johnson]</td>\n",
       "      <td>[Tom J. Astle, Matt Ember]</td>\n",
       "      <td>[Rihanna, Steve Martin, Jennifer Lopez]</td>\n",
       "    </tr>\n",
       "  </tbody>\n",
       "</table>\n",
       "</div>"
      ],
      "text/plain": [
       "        movie_name  domestic_gross  foreign_gross  world_gross  \\\n",
       "0  Everyone's Hero      14523101.0      2104087.0     16627188   \n",
       "1     Fire and Ice        760883.0            NaN       857522   \n",
       "2      Light Years        370698.0     12572253.0     12947880   \n",
       "3  Ratchet & Clank       8821329.0            NaN      8821329   \n",
       "4      Home (2015)     177397510.0    208644097.0    386041607   \n",
       "\n",
       "   production_budget release_date     distributor  runtime   rating  \\\n",
       "0                NaN   2006-09-15             Fox     88.0        G   \n",
       "1                NaN   1983-08-26           GKIDS     93.0       PG   \n",
       "2                NaN   1988-01-29     Eleven Arts    116.0  Unrated   \n",
       "3                NaN   2016-04-29  Focus Features     94.0       PG   \n",
       "4        135000000.0   2015-03-27             Fox     94.0       PG   \n",
       "\n",
       "       directors                     writers  \\\n",
       "0             []                          []   \n",
       "1             []                          []   \n",
       "2             []                          []   \n",
       "3             []                          []   \n",
       "4  [Tim Johnson]  [Tom J. Astle, Matt Ember]   \n",
       "\n",
       "                                              actors  \n",
       "0                    [Raven-Symone, Forest Whitaker]  \n",
       "1                                                 []  \n",
       "2                                                 []  \n",
       "3  [Rosario Dawson, Paul Giamatti, John Goodman, ...  \n",
       "4            [Rihanna, Steve Martin, Jennifer Lopez]  "
      ]
     },
     "execution_count": 35,
     "metadata": {},
     "output_type": "execute_result"
    }
   ],
   "source": [
    "movies_df.head()"
   ]
  },
  {
   "cell_type": "code",
   "execution_count": 36,
   "metadata": {
    "collapsed": false
   },
   "outputs": [],
   "source": [
    "movies_df = movies_df.fillna('')"
   ]
  },
  {
   "cell_type": "code",
   "execution_count": 37,
   "metadata": {
    "collapsed": false
   },
   "outputs": [
    {
     "data": {
      "text/html": [
       "<div>\n",
       "<table border=\"1\" class=\"dataframe\">\n",
       "  <thead>\n",
       "    <tr style=\"text-align: right;\">\n",
       "      <th></th>\n",
       "      <th>movie_name</th>\n",
       "      <th>domestic_gross</th>\n",
       "      <th>foreign_gross</th>\n",
       "      <th>world_gross</th>\n",
       "      <th>production_budget</th>\n",
       "      <th>release_date</th>\n",
       "      <th>distributor</th>\n",
       "      <th>runtime</th>\n",
       "      <th>rating</th>\n",
       "      <th>directors</th>\n",
       "      <th>writers</th>\n",
       "      <th>actors</th>\n",
       "    </tr>\n",
       "  </thead>\n",
       "  <tbody>\n",
       "    <tr>\n",
       "      <th>0</th>\n",
       "      <td>Everyone's Hero</td>\n",
       "      <td>1.45231e+07</td>\n",
       "      <td>2.10409e+06</td>\n",
       "      <td>16627188</td>\n",
       "      <td></td>\n",
       "      <td>2006-09-15</td>\n",
       "      <td>Fox</td>\n",
       "      <td>88</td>\n",
       "      <td>G</td>\n",
       "      <td>[]</td>\n",
       "      <td>[]</td>\n",
       "      <td>[Raven-Symone, Forest Whitaker]</td>\n",
       "    </tr>\n",
       "    <tr>\n",
       "      <th>1</th>\n",
       "      <td>Fire and Ice</td>\n",
       "      <td>760883</td>\n",
       "      <td></td>\n",
       "      <td>857522</td>\n",
       "      <td></td>\n",
       "      <td>1983-08-26</td>\n",
       "      <td>GKIDS</td>\n",
       "      <td>93</td>\n",
       "      <td>PG</td>\n",
       "      <td>[]</td>\n",
       "      <td>[]</td>\n",
       "      <td>[]</td>\n",
       "    </tr>\n",
       "    <tr>\n",
       "      <th>2</th>\n",
       "      <td>Light Years</td>\n",
       "      <td>370698</td>\n",
       "      <td>1.25723e+07</td>\n",
       "      <td>12947880</td>\n",
       "      <td></td>\n",
       "      <td>1988-01-29</td>\n",
       "      <td>Eleven Arts</td>\n",
       "      <td>116</td>\n",
       "      <td>Unrated</td>\n",
       "      <td>[]</td>\n",
       "      <td>[]</td>\n",
       "      <td>[]</td>\n",
       "    </tr>\n",
       "    <tr>\n",
       "      <th>3</th>\n",
       "      <td>Ratchet &amp; Clank</td>\n",
       "      <td>8.82133e+06</td>\n",
       "      <td></td>\n",
       "      <td>8821329</td>\n",
       "      <td></td>\n",
       "      <td>2016-04-29</td>\n",
       "      <td>Focus Features</td>\n",
       "      <td>94</td>\n",
       "      <td>PG</td>\n",
       "      <td>[]</td>\n",
       "      <td>[]</td>\n",
       "      <td>[Rosario Dawson, Paul Giamatti, John Goodman, ...</td>\n",
       "    </tr>\n",
       "    <tr>\n",
       "      <th>4</th>\n",
       "      <td>Home (2015)</td>\n",
       "      <td>1.77398e+08</td>\n",
       "      <td>2.08644e+08</td>\n",
       "      <td>386041607</td>\n",
       "      <td>1.35e+08</td>\n",
       "      <td>2015-03-27</td>\n",
       "      <td>Fox</td>\n",
       "      <td>94</td>\n",
       "      <td>PG</td>\n",
       "      <td>[Tim Johnson]</td>\n",
       "      <td>[Tom J. Astle, Matt Ember]</td>\n",
       "      <td>[Rihanna, Steve Martin, Jennifer Lopez]</td>\n",
       "    </tr>\n",
       "  </tbody>\n",
       "</table>\n",
       "</div>"
      ],
      "text/plain": [
       "        movie_name domestic_gross foreign_gross  world_gross  \\\n",
       "0  Everyone's Hero    1.45231e+07   2.10409e+06     16627188   \n",
       "1     Fire and Ice         760883                     857522   \n",
       "2      Light Years         370698   1.25723e+07     12947880   \n",
       "3  Ratchet & Clank    8.82133e+06                    8821329   \n",
       "4      Home (2015)    1.77398e+08   2.08644e+08    386041607   \n",
       "\n",
       "  production_budget release_date     distributor runtime   rating  \\\n",
       "0                     2006-09-15             Fox      88        G   \n",
       "1                     1983-08-26           GKIDS      93       PG   \n",
       "2                     1988-01-29     Eleven Arts     116  Unrated   \n",
       "3                     2016-04-29  Focus Features      94       PG   \n",
       "4          1.35e+08   2015-03-27             Fox      94       PG   \n",
       "\n",
       "       directors                     writers  \\\n",
       "0             []                          []   \n",
       "1             []                          []   \n",
       "2             []                          []   \n",
       "3             []                          []   \n",
       "4  [Tim Johnson]  [Tom J. Astle, Matt Ember]   \n",
       "\n",
       "                                              actors  \n",
       "0                    [Raven-Symone, Forest Whitaker]  \n",
       "1                                                 []  \n",
       "2                                                 []  \n",
       "3  [Rosario Dawson, Paul Giamatti, John Goodman, ...  \n",
       "4            [Rihanna, Steve Martin, Jennifer Lopez]  "
      ]
     },
     "execution_count": 37,
     "metadata": {},
     "output_type": "execute_result"
    }
   ],
   "source": [
    "movies_df.head()"
   ]
  },
  {
   "cell_type": "code",
   "execution_count": 38,
   "metadata": {
    "collapsed": false
   },
   "outputs": [
    {
     "data": {
      "text/html": [
       "<div>\n",
       "<table border=\"1\" class=\"dataframe\">\n",
       "  <thead>\n",
       "    <tr style=\"text-align: right;\">\n",
       "      <th></th>\n",
       "      <th>movie_name</th>\n",
       "      <th>domestic_gross</th>\n",
       "      <th>foreign_gross</th>\n",
       "      <th>world_gross</th>\n",
       "      <th>production_budget</th>\n",
       "      <th>release_date</th>\n",
       "      <th>distributor</th>\n",
       "      <th>runtime</th>\n",
       "      <th>rating</th>\n",
       "      <th>directors</th>\n",
       "      <th>writers</th>\n",
       "      <th>actors</th>\n",
       "    </tr>\n",
       "  </thead>\n",
       "  <tbody>\n",
       "    <tr>\n",
       "      <th>418</th>\n",
       "      <td>The Wild Life (2016)</td>\n",
       "      <td>8.00559e+06</td>\n",
       "      <td>3.1538e+07</td>\n",
       "      <td>39543581</td>\n",
       "      <td></td>\n",
       "      <td>2016-09-09</td>\n",
       "      <td>Lionsgate/Summit</td>\n",
       "      <td>90</td>\n",
       "      <td>PG</td>\n",
       "      <td>[]</td>\n",
       "      <td>[]</td>\n",
       "      <td>[]</td>\n",
       "    </tr>\n",
       "    <tr>\n",
       "      <th>419</th>\n",
       "      <td>Mr. Peabody &amp; Sherman</td>\n",
       "      <td>1.11506e+08</td>\n",
       "      <td>1.64192e+08</td>\n",
       "      <td>275698039</td>\n",
       "      <td>1.45e+08</td>\n",
       "      <td>2014-03-07</td>\n",
       "      <td>Fox</td>\n",
       "      <td>90</td>\n",
       "      <td>PG</td>\n",
       "      <td>[Rob Minkoff]</td>\n",
       "      <td>[Craig Wright]</td>\n",
       "      <td>[Ty Burrell, Stanley Tucci]</td>\n",
       "    </tr>\n",
       "    <tr>\n",
       "      <th>420</th>\n",
       "      <td>Foodfight!</td>\n",
       "      <td>120</td>\n",
       "      <td>2.71863e+07</td>\n",
       "      <td>27187375</td>\n",
       "      <td></td>\n",
       "      <td>2014-09-20</td>\n",
       "      <td>Millennium Ent.</td>\n",
       "      <td>84</td>\n",
       "      <td>Unrated</td>\n",
       "      <td>[]</td>\n",
       "      <td>[]</td>\n",
       "      <td>[]</td>\n",
       "    </tr>\n",
       "    <tr>\n",
       "      <th>421</th>\n",
       "      <td>Tamala 2010</td>\n",
       "      <td>3386</td>\n",
       "      <td>1.11636e+07</td>\n",
       "      <td>11167501</td>\n",
       "      <td></td>\n",
       "      <td>2004-04-02</td>\n",
       "      <td>The Bigger Picture</td>\n",
       "      <td>132</td>\n",
       "      <td>Unrated</td>\n",
       "      <td>[]</td>\n",
       "      <td>[]</td>\n",
       "      <td>[]</td>\n",
       "    </tr>\n",
       "    <tr>\n",
       "      <th>422</th>\n",
       "      <td>The Painting (2013)</td>\n",
       "      <td>21008</td>\n",
       "      <td></td>\n",
       "      <td>21008</td>\n",
       "      <td></td>\n",
       "      <td>2013-05-10</td>\n",
       "      <td>GKIDS</td>\n",
       "      <td>76</td>\n",
       "      <td>Unrated</td>\n",
       "      <td>[]</td>\n",
       "      <td>[]</td>\n",
       "      <td>[]</td>\n",
       "    </tr>\n",
       "  </tbody>\n",
       "</table>\n",
       "</div>"
      ],
      "text/plain": [
       "                movie_name domestic_gross foreign_gross  world_gross  \\\n",
       "418   The Wild Life (2016)    8.00559e+06    3.1538e+07     39543581   \n",
       "419  Mr. Peabody & Sherman    1.11506e+08   1.64192e+08    275698039   \n",
       "420             Foodfight!            120   2.71863e+07     27187375   \n",
       "421            Tamala 2010           3386   1.11636e+07     11167501   \n",
       "422    The Painting (2013)          21008                      21008   \n",
       "\n",
       "    production_budget release_date         distributor runtime   rating  \\\n",
       "418                     2016-09-09    Lionsgate/Summit      90       PG   \n",
       "419          1.45e+08   2014-03-07                 Fox      90       PG   \n",
       "420                     2014-09-20     Millennium Ent.      84  Unrated   \n",
       "421                     2004-04-02  The Bigger Picture     132  Unrated   \n",
       "422                     2013-05-10               GKIDS      76  Unrated   \n",
       "\n",
       "         directors         writers                       actors  \n",
       "418             []              []                           []  \n",
       "419  [Rob Minkoff]  [Craig Wright]  [Ty Burrell, Stanley Tucci]  \n",
       "420             []              []                           []  \n",
       "421             []              []                           []  \n",
       "422             []              []                           []  "
      ]
     },
     "execution_count": 38,
     "metadata": {},
     "output_type": "execute_result"
    }
   ],
   "source": [
    "movies_df.tail()"
   ]
  },
  {
   "cell_type": "code",
   "execution_count": 39,
   "metadata": {
    "collapsed": false
   },
   "outputs": [
    {
     "name": "stdout",
     "output_type": "stream",
     "text": [
      "<class 'pandas.core.frame.DataFrame'>\n",
      "RangeIndex: 423 entries, 0 to 422\n",
      "Data columns (total 12 columns):\n",
      "movie_name           423 non-null object\n",
      "domestic_gross       423 non-null object\n",
      "foreign_gross        423 non-null object\n",
      "world_gross          423 non-null int64\n",
      "production_budget    423 non-null object\n",
      "release_date         423 non-null datetime64[ns]\n",
      "distributor          423 non-null object\n",
      "runtime              423 non-null object\n",
      "rating               423 non-null object\n",
      "directors            423 non-null object\n",
      "writers              423 non-null object\n",
      "actors               423 non-null object\n",
      "dtypes: datetime64[ns](1), int64(1), object(10)\n",
      "memory usage: 39.7+ KB\n"
     ]
    }
   ],
   "source": [
    "movies_df.info()"
   ]
  },
  {
   "cell_type": "code",
   "execution_count": 40,
   "metadata": {
    "collapsed": false
   },
   "outputs": [
    {
     "data": {
      "text/plain": [
       "0              \n",
       "1              \n",
       "2              \n",
       "3              \n",
       "4      1.35e+08\n",
       "5       3.7e+07\n",
       "6              \n",
       "7         8e+07\n",
       "8         8e+06\n",
       "9              \n",
       "10      1.5e+08\n",
       "11             \n",
       "12      1.7e+07\n",
       "13             \n",
       "14             \n",
       "15        3e+07\n",
       "16             \n",
       "17             \n",
       "18             \n",
       "19        3e+07\n",
       "20        8e+06\n",
       "21             \n",
       "22     1.35e+08\n",
       "23             \n",
       "24      8.5e+07\n",
       "25        4e+07\n",
       "26             \n",
       "27             \n",
       "28      7.5e+07\n",
       "29             \n",
       "         ...   \n",
       "393       2e+08\n",
       "394            \n",
       "395       3e+06\n",
       "396            \n",
       "397            \n",
       "398            \n",
       "399            \n",
       "400       6e+07\n",
       "401            \n",
       "402            \n",
       "403     1.4e+08\n",
       "404            \n",
       "405            \n",
       "406            \n",
       "407     2.5e+07\n",
       "408            \n",
       "409            \n",
       "410            \n",
       "411    1.25e+08\n",
       "412            \n",
       "413     2.1e+07\n",
       "414            \n",
       "415            \n",
       "416            \n",
       "417            \n",
       "418            \n",
       "419    1.45e+08\n",
       "420            \n",
       "421            \n",
       "422            \n",
       "Name: production_budget, dtype: object"
      ]
     },
     "execution_count": 40,
     "metadata": {},
     "output_type": "execute_result"
    }
   ],
   "source": [
    "movies_df.production_budget"
   ]
  },
  {
   "cell_type": "code",
   "execution_count": 41,
   "metadata": {
    "collapsed": true
   },
   "outputs": [],
   "source": [
    "movies_df.to_csv('boxofficemojo_animation.csv')"
   ]
  },
  {
   "cell_type": "code",
   "execution_count": 42,
   "metadata": {
    "collapsed": true
   },
   "outputs": [],
   "source": [
    "less boxofficemojo_animation.csv"
   ]
  },
  {
   "cell_type": "code",
   "execution_count": null,
   "metadata": {
    "collapsed": true
   },
   "outputs": [],
   "source": []
  }
 ],
 "metadata": {
  "kernelspec": {
   "display_name": "Python 2",
   "language": "python",
   "name": "python2"
  },
  "language_info": {
   "codemirror_mode": {
    "name": "ipython",
    "version": 2
   },
   "file_extension": ".py",
   "mimetype": "text/x-python",
   "name": "python",
   "nbconvert_exporter": "python",
   "pygments_lexer": "ipython2",
   "version": "2.7.13"
  }
 },
 "nbformat": 4,
 "nbformat_minor": 0
}
